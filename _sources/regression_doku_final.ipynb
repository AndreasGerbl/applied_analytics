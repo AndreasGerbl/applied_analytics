{
 "cells": [
  {
   "cell_type": "markdown",
   "metadata": {},
   "source": [
    "# Regression"
   ]
  },
  {
   "cell_type": "markdown",
   "metadata": {},
   "source": [
    "## Plan"
   ]
  },
  {
   "cell_type": "markdown",
   "metadata": {},
   "source": [
    "### Use Case\n",
    "\n",
    "Das Unternehmen, welches bisher vor allem als Marktplatz für Immobilien von Kunden agiert hat, möchte in den Immobilienhandel einstiegen. Den Kunden sollen Angebote für Immobilien gemacht werden, wenn diese ihre Immobilie auf dem Handelsplatz registieren. Somit kann das Unternehmen als erstes eine potenziell gewinnbringende Immobilie entdecken und erwerben. Der Kunde spart sich Zeit und Aufwand beim Verkauf der Immobilie. Um die Immobilien marktkorrekt einschätzen zu können sollen gesammelte Daten zu vergleichbaren Immobilien und deren Standorten verwendet werden, um besonders rentable Immobilien zu identifizieren. "
   ]
  },
  {
   "cell_type": "markdown",
   "metadata": {},
   "source": [
    "### Problematik\n",
    "\n",
    "Anhand von Hausdaten wie Raumanzahl, Quadratmeter, ... sowie Daten über die Umgebung (Standort) der Immobilie wie die Menge an Schulen in unmittelbarer Umgebung oder ide Durchschnittliche Lärmbelästigung sollen Preise vorhergesagt werden. Somit kann das Unternehmen überteuerte oder günstige Immobilien finden und den Besitzern bessere Angebote machen. Dies soll die Erfolgschance von Angeboten erhöhen wodurch das Unternehmen günstiger rentable Immobilien erwerben kann und den Kunden Zeit und Aufwand bei der Interessentensuche und der Kaufabwicklung erspart wird."
   ]
  },
  {
   "cell_type": "markdown",
   "metadata": {},
   "source": [
    "### Variablen\n",
    "\n",
    "Es werden strukturierte Immobiliendaten verwendet. Für den Use Case soll außerdem verglichen werden, wie viele verschiedene Variablen tatsächlich benötigt werden, um zuverlässig den Preis einer Immobilie vorherzusagen, weshalb versucht wird, zuerst ein Modell zu erstellen, welches nur mit den relevantesten Faktoren den tatsächlichen Wert der Immobilie ermittelt. "
   ]
  },
  {
   "cell_type": "markdown",
   "metadata": {},
   "source": [
    "### Metriken\n",
    "\n",
    "Als Erfolg wird verbucht, wenn es durch das Modell möglich ist, schnell und ohne menschliches Eingreifen Immobilienpreise zuverlässig vorherzusagen.\n",
    "Die Schlüsselergebnisse für den Erfolg ist eine Modellgenauigkeit (hier die erklärbare Streuung der Zielvariable durch das Modell) von mindestens 66%, wodurch Zeit der Mitarbeiter und Experten eingespart wird. Eine höhere Genauigkeit kann zukünftig dann mit präziseren Daten erreicht werden und somit menschliches Eingreifen obsolet machen.\n",
    "Bei schlechterer Genauigkeit gilt das Modell als zu ungenau und damit nicht einsetzbar. Daraufhin müsste analysiert werden, welche Daten zusätzlich benötigt werden, wie diese zu präzisieren sind oder welches Modell eventuell besser funktionieren könnte."
   ]
  },
  {
   "cell_type": "markdown",
   "metadata": {},
   "source": [
    "## Data"
   ]
  },
  {
   "cell_type": "markdown",
   "metadata": {},
   "source": [
    "### Datenimport\n",
    "\n",
    "Importieren aller libraries"
   ]
  },
  {
   "cell_type": "code",
   "execution_count": 1,
   "metadata": {},
   "outputs": [],
   "source": [
    "import pandas as pd\n",
    "import numpy as np\n",
    "import matplotlib.pyplot as plt\n",
    "import seaborn as sns\n",
    "import plotly.express as px\n",
    "from statsmodels.formula.api import ols"
   ]
  },
  {
   "cell_type": "markdown",
   "metadata": {},
   "source": [
    "Daten einfügen und Spaltennamen vergeben"
   ]
  },
  {
   "cell_type": "code",
   "execution_count": 2,
   "metadata": {},
   "outputs": [],
   "source": [
    "# Datensatz hat keine Zeilenbeschreibung! \n",
    "names = ['CRIM', 'ZN','INDUS', 'CHAS', 'NOX', 'RM', 'AGE', 'DIS', 'RAD', 'TAX', 'PTRATIO', 'B', 'LSTAT', 'PRICE']\n",
    "df = pd.read_csv('housing.csv', header=None, delimiter='\\s+', names=names)"
   ]
  },
  {
   "cell_type": "markdown",
   "metadata": {},
   "source": [
    "Da verglichen werden soll, wie viel genauer unsere Preisvorhersage mit vielen Variablen ist, wird ein weiteres DataFrame benötigt. Hier könnte man das DataFrame einfach kopieren oder per sklearn.datasets das Original Dataset importieren"
   ]
  },
  {
   "cell_type": "code",
   "execution_count": 3,
   "metadata": {},
   "outputs": [
    {
     "name": "stderr",
     "output_type": "stream",
     "text": [
      "C:\\Users\\andre\\anaconda3\\lib\\site-packages\\sklearn\\utils\\deprecation.py:87: FutureWarning: Function load_boston is deprecated; `load_boston` is deprecated in 1.0 and will be removed in 1.2.\n",
      "\n",
      "    The Boston housing prices dataset has an ethical problem. You can refer to\n",
      "    the documentation of this function for further details.\n",
      "\n",
      "    The scikit-learn maintainers therefore strongly discourage the use of this\n",
      "    dataset unless the purpose of the code is to study and educate about\n",
      "    ethical issues in data science and machine learning.\n",
      "\n",
      "    In this special case, you can fetch the dataset from the original\n",
      "    source::\n",
      "\n",
      "        import pandas as pd\n",
      "        import numpy as np\n",
      "\n",
      "\n",
      "        data_url = \"http://lib.stat.cmu.edu/datasets/boston\"\n",
      "        raw_df = pd.read_csv(data_url, sep=\"\\s+\", skiprows=22, header=None)\n",
      "        data = np.hstack([raw_df.values[::2, :], raw_df.values[1::2, :2]])\n",
      "        target = raw_df.values[1::2, 2]\n",
      "\n",
      "    Alternative datasets include the California housing dataset (i.e.\n",
      "    :func:`~sklearn.datasets.fetch_california_housing`) and the Ames housing\n",
      "    dataset. You can load the datasets as follows::\n",
      "\n",
      "        from sklearn.datasets import fetch_california_housing\n",
      "        housing = fetch_california_housing()\n",
      "\n",
      "    for the California housing dataset and::\n",
      "\n",
      "        from sklearn.datasets import fetch_openml\n",
      "        housing = fetch_openml(name=\"house_prices\", as_frame=True)\n",
      "\n",
      "    for the Ames housing dataset.\n",
      "    \n",
      "  warnings.warn(msg, category=FutureWarning)\n"
     ]
    },
    {
     "data": {
      "text/plain": [
       "(506, 14)"
      ]
     },
     "execution_count": 3,
     "metadata": {},
     "output_type": "execute_result"
    }
   ],
   "source": [
    "from sklearn.datasets import load_boston\n",
    "boston = load_boston()\n",
    "data = pd.DataFrame(boston.data)\n",
    "data.columns = boston.feature_names\n",
    "data.head()\n",
    "#target variable \n",
    "data['PRICE'] = boston.target \n",
    "# Durchschnittspreis der Häuser in $1000\n",
    "data.shape\n"
   ]
  },
  {
   "cell_type": "code",
   "execution_count": 4,
   "metadata": {},
   "outputs": [
    {
     "data": {
      "text/html": [
       "<div>\n",
       "<style scoped>\n",
       "    .dataframe tbody tr th:only-of-type {\n",
       "        vertical-align: middle;\n",
       "    }\n",
       "\n",
       "    .dataframe tbody tr th {\n",
       "        vertical-align: top;\n",
       "    }\n",
       "\n",
       "    .dataframe thead th {\n",
       "        text-align: right;\n",
       "    }\n",
       "</style>\n",
       "<table border=\"1\" class=\"dataframe\">\n",
       "  <thead>\n",
       "    <tr style=\"text-align: right;\">\n",
       "      <th></th>\n",
       "      <th>CRIM</th>\n",
       "      <th>ZN</th>\n",
       "      <th>INDUS</th>\n",
       "      <th>CHAS</th>\n",
       "      <th>NOX</th>\n",
       "      <th>RM</th>\n",
       "      <th>AGE</th>\n",
       "      <th>DIS</th>\n",
       "      <th>RAD</th>\n",
       "      <th>TAX</th>\n",
       "      <th>PTRATIO</th>\n",
       "      <th>B</th>\n",
       "      <th>LSTAT</th>\n",
       "      <th>PRICE</th>\n",
       "    </tr>\n",
       "  </thead>\n",
       "  <tbody>\n",
       "    <tr>\n",
       "      <th>count</th>\n",
       "      <td>506.000000</td>\n",
       "      <td>506.000000</td>\n",
       "      <td>506.000000</td>\n",
       "      <td>506.000000</td>\n",
       "      <td>506.000000</td>\n",
       "      <td>506.000000</td>\n",
       "      <td>506.000000</td>\n",
       "      <td>506.000000</td>\n",
       "      <td>506.000000</td>\n",
       "      <td>506.000000</td>\n",
       "      <td>506.000000</td>\n",
       "      <td>506.000000</td>\n",
       "      <td>506.000000</td>\n",
       "      <td>506.000000</td>\n",
       "    </tr>\n",
       "    <tr>\n",
       "      <th>mean</th>\n",
       "      <td>3.613524</td>\n",
       "      <td>11.363636</td>\n",
       "      <td>11.136779</td>\n",
       "      <td>0.069170</td>\n",
       "      <td>0.554695</td>\n",
       "      <td>6.284634</td>\n",
       "      <td>68.574901</td>\n",
       "      <td>3.795043</td>\n",
       "      <td>9.549407</td>\n",
       "      <td>408.237154</td>\n",
       "      <td>18.455534</td>\n",
       "      <td>356.674032</td>\n",
       "      <td>12.653063</td>\n",
       "      <td>22.532806</td>\n",
       "    </tr>\n",
       "    <tr>\n",
       "      <th>std</th>\n",
       "      <td>8.601545</td>\n",
       "      <td>23.322453</td>\n",
       "      <td>6.860353</td>\n",
       "      <td>0.253994</td>\n",
       "      <td>0.115878</td>\n",
       "      <td>0.702617</td>\n",
       "      <td>28.148861</td>\n",
       "      <td>2.105710</td>\n",
       "      <td>8.707259</td>\n",
       "      <td>168.537116</td>\n",
       "      <td>2.164946</td>\n",
       "      <td>91.294864</td>\n",
       "      <td>7.141062</td>\n",
       "      <td>9.197104</td>\n",
       "    </tr>\n",
       "    <tr>\n",
       "      <th>min</th>\n",
       "      <td>0.006320</td>\n",
       "      <td>0.000000</td>\n",
       "      <td>0.460000</td>\n",
       "      <td>0.000000</td>\n",
       "      <td>0.385000</td>\n",
       "      <td>3.561000</td>\n",
       "      <td>2.900000</td>\n",
       "      <td>1.129600</td>\n",
       "      <td>1.000000</td>\n",
       "      <td>187.000000</td>\n",
       "      <td>12.600000</td>\n",
       "      <td>0.320000</td>\n",
       "      <td>1.730000</td>\n",
       "      <td>5.000000</td>\n",
       "    </tr>\n",
       "    <tr>\n",
       "      <th>25%</th>\n",
       "      <td>0.082045</td>\n",
       "      <td>0.000000</td>\n",
       "      <td>5.190000</td>\n",
       "      <td>0.000000</td>\n",
       "      <td>0.449000</td>\n",
       "      <td>5.885500</td>\n",
       "      <td>45.025000</td>\n",
       "      <td>2.100175</td>\n",
       "      <td>4.000000</td>\n",
       "      <td>279.000000</td>\n",
       "      <td>17.400000</td>\n",
       "      <td>375.377500</td>\n",
       "      <td>6.950000</td>\n",
       "      <td>17.025000</td>\n",
       "    </tr>\n",
       "    <tr>\n",
       "      <th>50%</th>\n",
       "      <td>0.256510</td>\n",
       "      <td>0.000000</td>\n",
       "      <td>9.690000</td>\n",
       "      <td>0.000000</td>\n",
       "      <td>0.538000</td>\n",
       "      <td>6.208500</td>\n",
       "      <td>77.500000</td>\n",
       "      <td>3.207450</td>\n",
       "      <td>5.000000</td>\n",
       "      <td>330.000000</td>\n",
       "      <td>19.050000</td>\n",
       "      <td>391.440000</td>\n",
       "      <td>11.360000</td>\n",
       "      <td>21.200000</td>\n",
       "    </tr>\n",
       "    <tr>\n",
       "      <th>75%</th>\n",
       "      <td>3.677083</td>\n",
       "      <td>12.500000</td>\n",
       "      <td>18.100000</td>\n",
       "      <td>0.000000</td>\n",
       "      <td>0.624000</td>\n",
       "      <td>6.623500</td>\n",
       "      <td>94.075000</td>\n",
       "      <td>5.188425</td>\n",
       "      <td>24.000000</td>\n",
       "      <td>666.000000</td>\n",
       "      <td>20.200000</td>\n",
       "      <td>396.225000</td>\n",
       "      <td>16.955000</td>\n",
       "      <td>25.000000</td>\n",
       "    </tr>\n",
       "    <tr>\n",
       "      <th>max</th>\n",
       "      <td>88.976200</td>\n",
       "      <td>100.000000</td>\n",
       "      <td>27.740000</td>\n",
       "      <td>1.000000</td>\n",
       "      <td>0.871000</td>\n",
       "      <td>8.780000</td>\n",
       "      <td>100.000000</td>\n",
       "      <td>12.126500</td>\n",
       "      <td>24.000000</td>\n",
       "      <td>711.000000</td>\n",
       "      <td>22.000000</td>\n",
       "      <td>396.900000</td>\n",
       "      <td>37.970000</td>\n",
       "      <td>50.000000</td>\n",
       "    </tr>\n",
       "  </tbody>\n",
       "</table>\n",
       "</div>"
      ],
      "text/plain": [
       "             CRIM          ZN       INDUS        CHAS         NOX          RM  \\\n",
       "count  506.000000  506.000000  506.000000  506.000000  506.000000  506.000000   \n",
       "mean     3.613524   11.363636   11.136779    0.069170    0.554695    6.284634   \n",
       "std      8.601545   23.322453    6.860353    0.253994    0.115878    0.702617   \n",
       "min      0.006320    0.000000    0.460000    0.000000    0.385000    3.561000   \n",
       "25%      0.082045    0.000000    5.190000    0.000000    0.449000    5.885500   \n",
       "50%      0.256510    0.000000    9.690000    0.000000    0.538000    6.208500   \n",
       "75%      3.677083   12.500000   18.100000    0.000000    0.624000    6.623500   \n",
       "max     88.976200  100.000000   27.740000    1.000000    0.871000    8.780000   \n",
       "\n",
       "              AGE         DIS         RAD         TAX     PTRATIO           B  \\\n",
       "count  506.000000  506.000000  506.000000  506.000000  506.000000  506.000000   \n",
       "mean    68.574901    3.795043    9.549407  408.237154   18.455534  356.674032   \n",
       "std     28.148861    2.105710    8.707259  168.537116    2.164946   91.294864   \n",
       "min      2.900000    1.129600    1.000000  187.000000   12.600000    0.320000   \n",
       "25%     45.025000    2.100175    4.000000  279.000000   17.400000  375.377500   \n",
       "50%     77.500000    3.207450    5.000000  330.000000   19.050000  391.440000   \n",
       "75%     94.075000    5.188425   24.000000  666.000000   20.200000  396.225000   \n",
       "max    100.000000   12.126500   24.000000  711.000000   22.000000  396.900000   \n",
       "\n",
       "            LSTAT       PRICE  \n",
       "count  506.000000  506.000000  \n",
       "mean    12.653063   22.532806  \n",
       "std      7.141062    9.197104  \n",
       "min      1.730000    5.000000  \n",
       "25%      6.950000   17.025000  \n",
       "50%     11.360000   21.200000  \n",
       "75%     16.955000   25.000000  \n",
       "max     37.970000   50.000000  "
      ]
     },
     "execution_count": 4,
     "metadata": {},
     "output_type": "execute_result"
    }
   ],
   "source": [
    "df.describe()"
   ]
  },
  {
   "cell_type": "code",
   "execution_count": 5,
   "metadata": {},
   "outputs": [
    {
     "data": {
      "text/html": [
       "<div>\n",
       "<style scoped>\n",
       "    .dataframe tbody tr th:only-of-type {\n",
       "        vertical-align: middle;\n",
       "    }\n",
       "\n",
       "    .dataframe tbody tr th {\n",
       "        vertical-align: top;\n",
       "    }\n",
       "\n",
       "    .dataframe thead th {\n",
       "        text-align: right;\n",
       "    }\n",
       "</style>\n",
       "<table border=\"1\" class=\"dataframe\">\n",
       "  <thead>\n",
       "    <tr style=\"text-align: right;\">\n",
       "      <th></th>\n",
       "      <th>CRIM</th>\n",
       "      <th>ZN</th>\n",
       "      <th>INDUS</th>\n",
       "      <th>CHAS</th>\n",
       "      <th>NOX</th>\n",
       "      <th>RM</th>\n",
       "      <th>AGE</th>\n",
       "      <th>DIS</th>\n",
       "      <th>RAD</th>\n",
       "      <th>TAX</th>\n",
       "      <th>PTRATIO</th>\n",
       "      <th>B</th>\n",
       "      <th>LSTAT</th>\n",
       "      <th>PRICE</th>\n",
       "    </tr>\n",
       "  </thead>\n",
       "  <tbody>\n",
       "    <tr>\n",
       "      <th>count</th>\n",
       "      <td>506.000000</td>\n",
       "      <td>506.000000</td>\n",
       "      <td>506.000000</td>\n",
       "      <td>506.000000</td>\n",
       "      <td>506.000000</td>\n",
       "      <td>506.000000</td>\n",
       "      <td>506.000000</td>\n",
       "      <td>506.000000</td>\n",
       "      <td>506.000000</td>\n",
       "      <td>506.000000</td>\n",
       "      <td>506.000000</td>\n",
       "      <td>506.000000</td>\n",
       "      <td>506.000000</td>\n",
       "      <td>506.000000</td>\n",
       "    </tr>\n",
       "    <tr>\n",
       "      <th>mean</th>\n",
       "      <td>3.613524</td>\n",
       "      <td>11.363636</td>\n",
       "      <td>11.136779</td>\n",
       "      <td>0.069170</td>\n",
       "      <td>0.554695</td>\n",
       "      <td>6.284634</td>\n",
       "      <td>68.574901</td>\n",
       "      <td>3.795043</td>\n",
       "      <td>9.549407</td>\n",
       "      <td>408.237154</td>\n",
       "      <td>18.455534</td>\n",
       "      <td>356.674032</td>\n",
       "      <td>12.653063</td>\n",
       "      <td>22.532806</td>\n",
       "    </tr>\n",
       "    <tr>\n",
       "      <th>std</th>\n",
       "      <td>8.601545</td>\n",
       "      <td>23.322453</td>\n",
       "      <td>6.860353</td>\n",
       "      <td>0.253994</td>\n",
       "      <td>0.115878</td>\n",
       "      <td>0.702617</td>\n",
       "      <td>28.148861</td>\n",
       "      <td>2.105710</td>\n",
       "      <td>8.707259</td>\n",
       "      <td>168.537116</td>\n",
       "      <td>2.164946</td>\n",
       "      <td>91.294864</td>\n",
       "      <td>7.141062</td>\n",
       "      <td>9.197104</td>\n",
       "    </tr>\n",
       "    <tr>\n",
       "      <th>min</th>\n",
       "      <td>0.006320</td>\n",
       "      <td>0.000000</td>\n",
       "      <td>0.460000</td>\n",
       "      <td>0.000000</td>\n",
       "      <td>0.385000</td>\n",
       "      <td>3.561000</td>\n",
       "      <td>2.900000</td>\n",
       "      <td>1.129600</td>\n",
       "      <td>1.000000</td>\n",
       "      <td>187.000000</td>\n",
       "      <td>12.600000</td>\n",
       "      <td>0.320000</td>\n",
       "      <td>1.730000</td>\n",
       "      <td>5.000000</td>\n",
       "    </tr>\n",
       "    <tr>\n",
       "      <th>25%</th>\n",
       "      <td>0.082045</td>\n",
       "      <td>0.000000</td>\n",
       "      <td>5.190000</td>\n",
       "      <td>0.000000</td>\n",
       "      <td>0.449000</td>\n",
       "      <td>5.885500</td>\n",
       "      <td>45.025000</td>\n",
       "      <td>2.100175</td>\n",
       "      <td>4.000000</td>\n",
       "      <td>279.000000</td>\n",
       "      <td>17.400000</td>\n",
       "      <td>375.377500</td>\n",
       "      <td>6.950000</td>\n",
       "      <td>17.025000</td>\n",
       "    </tr>\n",
       "    <tr>\n",
       "      <th>50%</th>\n",
       "      <td>0.256510</td>\n",
       "      <td>0.000000</td>\n",
       "      <td>9.690000</td>\n",
       "      <td>0.000000</td>\n",
       "      <td>0.538000</td>\n",
       "      <td>6.208500</td>\n",
       "      <td>77.500000</td>\n",
       "      <td>3.207450</td>\n",
       "      <td>5.000000</td>\n",
       "      <td>330.000000</td>\n",
       "      <td>19.050000</td>\n",
       "      <td>391.440000</td>\n",
       "      <td>11.360000</td>\n",
       "      <td>21.200000</td>\n",
       "    </tr>\n",
       "    <tr>\n",
       "      <th>75%</th>\n",
       "      <td>3.677083</td>\n",
       "      <td>12.500000</td>\n",
       "      <td>18.100000</td>\n",
       "      <td>0.000000</td>\n",
       "      <td>0.624000</td>\n",
       "      <td>6.623500</td>\n",
       "      <td>94.075000</td>\n",
       "      <td>5.188425</td>\n",
       "      <td>24.000000</td>\n",
       "      <td>666.000000</td>\n",
       "      <td>20.200000</td>\n",
       "      <td>396.225000</td>\n",
       "      <td>16.955000</td>\n",
       "      <td>25.000000</td>\n",
       "    </tr>\n",
       "    <tr>\n",
       "      <th>max</th>\n",
       "      <td>88.976200</td>\n",
       "      <td>100.000000</td>\n",
       "      <td>27.740000</td>\n",
       "      <td>1.000000</td>\n",
       "      <td>0.871000</td>\n",
       "      <td>8.780000</td>\n",
       "      <td>100.000000</td>\n",
       "      <td>12.126500</td>\n",
       "      <td>24.000000</td>\n",
       "      <td>711.000000</td>\n",
       "      <td>22.000000</td>\n",
       "      <td>396.900000</td>\n",
       "      <td>37.970000</td>\n",
       "      <td>50.000000</td>\n",
       "    </tr>\n",
       "  </tbody>\n",
       "</table>\n",
       "</div>"
      ],
      "text/plain": [
       "             CRIM          ZN       INDUS        CHAS         NOX          RM  \\\n",
       "count  506.000000  506.000000  506.000000  506.000000  506.000000  506.000000   \n",
       "mean     3.613524   11.363636   11.136779    0.069170    0.554695    6.284634   \n",
       "std      8.601545   23.322453    6.860353    0.253994    0.115878    0.702617   \n",
       "min      0.006320    0.000000    0.460000    0.000000    0.385000    3.561000   \n",
       "25%      0.082045    0.000000    5.190000    0.000000    0.449000    5.885500   \n",
       "50%      0.256510    0.000000    9.690000    0.000000    0.538000    6.208500   \n",
       "75%      3.677083   12.500000   18.100000    0.000000    0.624000    6.623500   \n",
       "max     88.976200  100.000000   27.740000    1.000000    0.871000    8.780000   \n",
       "\n",
       "              AGE         DIS         RAD         TAX     PTRATIO           B  \\\n",
       "count  506.000000  506.000000  506.000000  506.000000  506.000000  506.000000   \n",
       "mean    68.574901    3.795043    9.549407  408.237154   18.455534  356.674032   \n",
       "std     28.148861    2.105710    8.707259  168.537116    2.164946   91.294864   \n",
       "min      2.900000    1.129600    1.000000  187.000000   12.600000    0.320000   \n",
       "25%     45.025000    2.100175    4.000000  279.000000   17.400000  375.377500   \n",
       "50%     77.500000    3.207450    5.000000  330.000000   19.050000  391.440000   \n",
       "75%     94.075000    5.188425   24.000000  666.000000   20.200000  396.225000   \n",
       "max    100.000000   12.126500   24.000000  711.000000   22.000000  396.900000   \n",
       "\n",
       "            LSTAT       PRICE  \n",
       "count  506.000000  506.000000  \n",
       "mean    12.653063   22.532806  \n",
       "std      7.141062    9.197104  \n",
       "min      1.730000    5.000000  \n",
       "25%      6.950000   17.025000  \n",
       "50%     11.360000   21.200000  \n",
       "75%     16.955000   25.000000  \n",
       "max     37.970000   50.000000  "
      ]
     },
     "execution_count": 5,
     "metadata": {},
     "output_type": "execute_result"
    }
   ],
   "source": [
    "data.describe()"
   ]
  },
  {
   "cell_type": "markdown",
   "metadata": {},
   "source": [
    "Beide Datasets sind identisch!"
   ]
  },
  {
   "cell_type": "markdown",
   "metadata": {},
   "source": [
    "### Datenexploration und Erkenntnisgewinn"
   ]
  },
  {
   "cell_type": "code",
   "execution_count": 6,
   "metadata": {},
   "outputs": [],
   "source": [
    "X = data.drop(columns='PRICE') # target variable!\n",
    "Y = data.PRICE"
   ]
  },
  {
   "cell_type": "code",
   "execution_count": 7,
   "metadata": {},
   "outputs": [],
   "source": [
    "from sklearn.model_selection import train_test_split\n",
    "X_train, X_test, y_train, y_test = train_test_split(X,Y,test_size=0.2)"
   ]
  },
  {
   "cell_type": "code",
   "execution_count": 8,
   "metadata": {},
   "outputs": [],
   "source": [
    "df_train = pd.DataFrame(X_train.copy())\n",
    "df_train = df_train.join(pd.DataFrame(y_train))"
   ]
  },
  {
   "cell_type": "code",
   "execution_count": 9,
   "metadata": {},
   "outputs": [
    {
     "name": "stdout",
     "output_type": "stream",
     "text": [
      "<class 'pandas.core.frame.DataFrame'>\n",
      "Int64Index: 404 entries, 484 to 26\n",
      "Data columns (total 14 columns):\n",
      " #   Column   Non-Null Count  Dtype  \n",
      "---  ------   --------------  -----  \n",
      " 0   CRIM     404 non-null    float64\n",
      " 1   ZN       404 non-null    float64\n",
      " 2   INDUS    404 non-null    float64\n",
      " 3   CHAS     404 non-null    float64\n",
      " 4   NOX      404 non-null    float64\n",
      " 5   RM       404 non-null    float64\n",
      " 6   AGE      404 non-null    float64\n",
      " 7   DIS      404 non-null    float64\n",
      " 8   RAD      404 non-null    float64\n",
      " 9   TAX      404 non-null    float64\n",
      " 10  PTRATIO  404 non-null    float64\n",
      " 11  B        404 non-null    float64\n",
      " 12  LSTAT    404 non-null    float64\n",
      " 13  PRICE    404 non-null    float64\n",
      "dtypes: float64(14)\n",
      "memory usage: 63.5 KB\n"
     ]
    }
   ],
   "source": [
    "df_train.info()"
   ]
  },
  {
   "cell_type": "markdown",
   "metadata": {},
   "source": [
    "Alle Variablen sind vom Datentyp Float oder int und damit numerisch, somit keine Anpassung am Datentyp notwendig."
   ]
  },
  {
   "cell_type": "code",
   "execution_count": 10,
   "metadata": {},
   "outputs": [
    {
     "data": {
      "text/html": [
       "<div>\n",
       "<style scoped>\n",
       "    .dataframe tbody tr th:only-of-type {\n",
       "        vertical-align: middle;\n",
       "    }\n",
       "\n",
       "    .dataframe tbody tr th {\n",
       "        vertical-align: top;\n",
       "    }\n",
       "\n",
       "    .dataframe thead th {\n",
       "        text-align: right;\n",
       "    }\n",
       "</style>\n",
       "<table border=\"1\" class=\"dataframe\">\n",
       "  <thead>\n",
       "    <tr style=\"text-align: right;\">\n",
       "      <th></th>\n",
       "      <th>CRIM</th>\n",
       "      <th>ZN</th>\n",
       "      <th>INDUS</th>\n",
       "      <th>CHAS</th>\n",
       "      <th>NOX</th>\n",
       "      <th>RM</th>\n",
       "      <th>AGE</th>\n",
       "      <th>DIS</th>\n",
       "      <th>RAD</th>\n",
       "      <th>TAX</th>\n",
       "      <th>PTRATIO</th>\n",
       "      <th>B</th>\n",
       "      <th>LSTAT</th>\n",
       "      <th>PRICE</th>\n",
       "    </tr>\n",
       "  </thead>\n",
       "  <tbody>\n",
       "    <tr>\n",
       "      <th>484</th>\n",
       "      <td>2.37857</td>\n",
       "      <td>0.0</td>\n",
       "      <td>18.10</td>\n",
       "      <td>0.0</td>\n",
       "      <td>0.583</td>\n",
       "      <td>5.871</td>\n",
       "      <td>41.9</td>\n",
       "      <td>3.7240</td>\n",
       "      <td>24.0</td>\n",
       "      <td>666.0</td>\n",
       "      <td>20.2</td>\n",
       "      <td>370.73</td>\n",
       "      <td>13.34</td>\n",
       "      <td>20.6</td>\n",
       "    </tr>\n",
       "    <tr>\n",
       "      <th>407</th>\n",
       "      <td>11.95110</td>\n",
       "      <td>0.0</td>\n",
       "      <td>18.10</td>\n",
       "      <td>0.0</td>\n",
       "      <td>0.659</td>\n",
       "      <td>5.608</td>\n",
       "      <td>100.0</td>\n",
       "      <td>1.2852</td>\n",
       "      <td>24.0</td>\n",
       "      <td>666.0</td>\n",
       "      <td>20.2</td>\n",
       "      <td>332.09</td>\n",
       "      <td>12.13</td>\n",
       "      <td>27.9</td>\n",
       "    </tr>\n",
       "    <tr>\n",
       "      <th>42</th>\n",
       "      <td>0.14150</td>\n",
       "      <td>0.0</td>\n",
       "      <td>6.91</td>\n",
       "      <td>0.0</td>\n",
       "      <td>0.448</td>\n",
       "      <td>6.169</td>\n",
       "      <td>6.6</td>\n",
       "      <td>5.7209</td>\n",
       "      <td>3.0</td>\n",
       "      <td>233.0</td>\n",
       "      <td>17.9</td>\n",
       "      <td>383.37</td>\n",
       "      <td>5.81</td>\n",
       "      <td>25.3</td>\n",
       "    </tr>\n",
       "    <tr>\n",
       "      <th>113</th>\n",
       "      <td>0.22212</td>\n",
       "      <td>0.0</td>\n",
       "      <td>10.01</td>\n",
       "      <td>0.0</td>\n",
       "      <td>0.547</td>\n",
       "      <td>6.092</td>\n",
       "      <td>95.4</td>\n",
       "      <td>2.5480</td>\n",
       "      <td>6.0</td>\n",
       "      <td>432.0</td>\n",
       "      <td>17.8</td>\n",
       "      <td>396.90</td>\n",
       "      <td>17.09</td>\n",
       "      <td>18.7</td>\n",
       "    </tr>\n",
       "    <tr>\n",
       "      <th>25</th>\n",
       "      <td>0.84054</td>\n",
       "      <td>0.0</td>\n",
       "      <td>8.14</td>\n",
       "      <td>0.0</td>\n",
       "      <td>0.538</td>\n",
       "      <td>5.599</td>\n",
       "      <td>85.7</td>\n",
       "      <td>4.4546</td>\n",
       "      <td>4.0</td>\n",
       "      <td>307.0</td>\n",
       "      <td>21.0</td>\n",
       "      <td>303.42</td>\n",
       "      <td>16.51</td>\n",
       "      <td>13.9</td>\n",
       "    </tr>\n",
       "  </tbody>\n",
       "</table>\n",
       "</div>"
      ],
      "text/plain": [
       "         CRIM   ZN  INDUS  CHAS    NOX     RM    AGE     DIS   RAD    TAX  \\\n",
       "484   2.37857  0.0  18.10   0.0  0.583  5.871   41.9  3.7240  24.0  666.0   \n",
       "407  11.95110  0.0  18.10   0.0  0.659  5.608  100.0  1.2852  24.0  666.0   \n",
       "42    0.14150  0.0   6.91   0.0  0.448  6.169    6.6  5.7209   3.0  233.0   \n",
       "113   0.22212  0.0  10.01   0.0  0.547  6.092   95.4  2.5480   6.0  432.0   \n",
       "25    0.84054  0.0   8.14   0.0  0.538  5.599   85.7  4.4546   4.0  307.0   \n",
       "\n",
       "     PTRATIO       B  LSTAT  PRICE  \n",
       "484     20.2  370.73  13.34   20.6  \n",
       "407     20.2  332.09  12.13   27.9  \n",
       "42      17.9  383.37   5.81   25.3  \n",
       "113     17.8  396.90  17.09   18.7  \n",
       "25      21.0  303.42  16.51   13.9  "
      ]
     },
     "execution_count": 10,
     "metadata": {},
     "output_type": "execute_result"
    }
   ],
   "source": [
    "df_train.head()"
   ]
  },
  {
   "cell_type": "markdown",
   "metadata": {},
   "source": [
    "Erklärung aller Variablen: \n",
    "CRIM - Pro-Kopf-Verbrechensrate nach Stadt\n",
    "ZN - Anteil der Wohnbauflächen, die für Grundstücke über 25.000 m² ausgewiesen sind.\n",
    "INDUS - Anteil der Flächen für Nicht-Einzelhandelsunternehmen pro Stadt.\n",
    "CHAS - Charles River Dummy-Variable (1, wenn das Gebiet an den Fluss grenzt; sonst 0)\n",
    "NOX - Konzentration von Stickstoffoxiden (Teile pro 10 Millionen)\n",
    "RM - durchschnittliche Anzahl der Zimmer pro Wohnung\n",
    "AGE - Anteil der Eigentumswohnungen, die vor 1940 gebaut wurden\n",
    "DIS - gewichtete Entfernungen zu fünf Beschäftigungszentren/Arbeitsämter\n",
    "RAD - Index der Erreichbarkeit von Radialautobahnen\n",
    "TAX - Vollwertiger Grundsteuersatz pro 10.000 \\$\n",
    "PTRATIO - Schüler-Lehrer-Verhältnis nach Stadt\n",
    "B - 1000(Bk - 0,63)^2, wobei Bk der Anteil der Schwarzen in der Stadt ist \n",
    "LSTAT - % niedrigerer Status der Bevölkerung\n",
    "PRICE - Medianwert der Eigenheime in 1000 \\$"
   ]
  },
  {
   "cell_type": "code",
   "execution_count": 11,
   "metadata": {},
   "outputs": [
    {
     "data": {
      "text/plain": [
       "<AxesSubplot:>"
      ]
     },
     "execution_count": 11,
     "metadata": {},
     "output_type": "execute_result"
    },
    {
     "data": {
      "image/png": "[encoded data removed]",
      "text/plain": [
       "<Figure size 1440x1080 with 2 Axes>"
      ]
     },
     "metadata": {
      "needs_background": "light"
     },
     "output_type": "display_data"
    }
   ],
   "source": [
    "plt.figure(figsize=(20,15))\n",
    "sns.heatmap(df_train.corr(), annot=True)"
   ]
  },
  {
   "cell_type": "markdown",
   "metadata": {},
   "source": [
    "Erkenntnisgewinn: \n",
    "Da wir den Preis präzise vorhersagen möchten, interessieren uns vor allem die Variablen mit der stärksten negativen oder positiven Korrelation zum Preis.Direkt fällt auf, dass LSTAT eine sehr starke negative Korrelation zu PRICE hat während RM hat eine starke positive Korrelation zu PRICE. Außerdem wird klar, dass viele Variablen eine mittelstarke Korrelation mit der Preisvariable aufweisen. Somit wird interessant zu sehen sein, wie genau das Modell bei der Verwendung aller Variablen werden kann."
   ]
  },
  {
   "cell_type": "markdown",
   "metadata": {},
   "source": [
    "### Datenbereinigung und -transformation"
   ]
  },
  {
   "cell_type": "code",
   "execution_count": 12,
   "metadata": {},
   "outputs": [
    {
     "name": "stdout",
     "output_type": "stream",
     "text": [
      "CRIM       0\n",
      "ZN         0\n",
      "INDUS      0\n",
      "CHAS       0\n",
      "NOX        0\n",
      "RM         0\n",
      "AGE        0\n",
      "DIS        0\n",
      "RAD        0\n",
      "TAX        0\n",
      "PTRATIO    0\n",
      "B          0\n",
      "LSTAT      0\n",
      "PRICE      0\n",
      "dtype: int64\n"
     ]
    }
   ],
   "source": [
    "print(df_train.isnull().sum())"
   ]
  },
  {
   "cell_type": "markdown",
   "metadata": {},
   "source": [
    "Keine fehlenden Werte"
   ]
  },
  {
   "cell_type": "code",
   "execution_count": 13,
   "metadata": {},
   "outputs": [
    {
     "name": "stdout",
     "output_type": "stream",
     "text": [
      "<class 'pandas.core.frame.DataFrame'>\n",
      "Int64Index: 404 entries, 484 to 26\n",
      "Data columns (total 14 columns):\n",
      " #   Column   Non-Null Count  Dtype  \n",
      "---  ------   --------------  -----  \n",
      " 0   CRIM     404 non-null    float64\n",
      " 1   ZN       404 non-null    float64\n",
      " 2   INDUS    404 non-null    float64\n",
      " 3   CHAS     404 non-null    float64\n",
      " 4   NOX      404 non-null    float64\n",
      " 5   RM       404 non-null    float64\n",
      " 6   AGE      404 non-null    float64\n",
      " 7   DIS      404 non-null    float64\n",
      " 8   RAD      404 non-null    float64\n",
      " 9   TAX      404 non-null    float64\n",
      " 10  PTRATIO  404 non-null    float64\n",
      " 11  B        404 non-null    float64\n",
      " 12  LSTAT    404 non-null    float64\n",
      " 13  PRICE    404 non-null    float64\n",
      "dtypes: float64(14)\n",
      "memory usage: 47.3 KB\n"
     ]
    }
   ],
   "source": [
    "df_train.drop_duplicates(inplace=True)\n",
    "df_train.info() # Vergleich mit vorherigem data.info() un zu sehen, ob Values fehlen"
   ]
  },
  {
   "cell_type": "markdown",
   "metadata": {},
   "source": [
    "Keine Duplikate!"
   ]
  },
  {
   "cell_type": "markdown",
   "metadata": {},
   "source": [
    "Datensatz verkleinern, um zu überprüfen, ob die zwei relevantesten Variablen bereits ausreichen, um zufriedenstellende Genauigkeit zu erreichen."
   ]
  },
  {
   "cell_type": "markdown",
   "metadata": {},
   "source": [
    "### Datenaufbereitung"
   ]
  },
  {
   "cell_type": "code",
   "execution_count": 14,
   "metadata": {},
   "outputs": [
    {
     "data": {
      "text/plain": [
       "<seaborn.axisgrid.PairGrid at 0x2ba4cce5af0>"
      ]
     },
     "execution_count": 14,
     "metadata": {},
     "output_type": "execute_result"
    },
    {
     "data": {
      "image/png": "[encoded data removed]",
      "text/plain": [
       "<Figure size 540x540 with 12 Axes>"
      ]
     },
     "metadata": {
      "needs_background": "light"
     },
     "output_type": "display_data"
    }
   ],
   "source": [
    "data = data.drop(data.columns[[0, 1, 2, 3, 4, 6,7,8,9,10,11]], axis=1)\n",
    "sns.pairplot(data)"
   ]
  },
  {
   "cell_type": "markdown",
   "metadata": {},
   "source": [
    "Variablen scheinen nahezu normalverteilt zu sein und wenig Ausreißer zu besitzen. "
   ]
  },
  {
   "cell_type": "code",
   "execution_count": 12,
   "metadata": {},
   "outputs": [],
   "source": [
    "X = data.drop(columns='PRICE')\n",
    "Y = data.PRICE"
   ]
  },
  {
   "cell_type": "markdown",
   "metadata": {},
   "source": [
    "Data splitting"
   ]
  },
  {
   "cell_type": "code",
   "execution_count": 13,
   "metadata": {},
   "outputs": [],
   "source": [
    "from sklearn.model_selection import train_test_split\n",
    "X_train, X_test, y_train, y_test = train_test_split(X,Y,test_size=0.2)"
   ]
  },
  {
   "cell_type": "markdown",
   "metadata": {},
   "source": [
    "## Modell"
   ]
  },
  {
   "cell_type": "markdown",
   "metadata": {},
   "source": [
    "### Modellauswahl\n",
    "\n",
    "Da es sich um eine recht einfache Regressionsaufgabe handelt, ist der Einsatz eines linearen Modells zu empfehlen. Durch Ensemble-Methoden können daraufhin die Modelle noch genauer analysieren."
   ]
  },
  {
   "cell_type": "markdown",
   "metadata": {},
   "source": [
    "### Modellerstellung"
   ]
  },
  {
   "cell_type": "markdown",
   "metadata": {},
   "source": [
    "Modelltraining mit Trainingsdaten"
   ]
  },
  {
   "cell_type": "code",
   "execution_count": 14,
   "metadata": {},
   "outputs": [],
   "source": [
    "from sklearn.linear_model import LinearRegression\n",
    "from sklearn.metrics import r2_score\n",
    "linreg = LinearRegression()\n",
    "linreg.fit(X_train,y_train)\n",
    "y_pred = linreg.predict(X_train)"
   ]
  },
  {
   "cell_type": "markdown",
   "metadata": {},
   "source": [
    "Modelevaluation"
   ]
  },
  {
   "cell_type": "code",
   "execution_count": 15,
   "metadata": {},
   "outputs": [
    {
     "name": "stdout",
     "output_type": "stream",
     "text": [
      "R^2: 0.6169549148052427\n",
      "Adjusted R^2: 0.6150444655025257\n",
      "MAE: 3.970433886343179\n",
      "MSE: 30.8445814537622\n",
      "RMSE: 5.5537898280149385\n"
     ]
    }
   ],
   "source": [
    "from sklearn import metrics\n",
    "from math import sqrt\n",
    "print('R^2:',metrics.r2_score(y_train, y_pred))\n",
    "print('Adjusted R^2:',1 - (1-metrics.r2_score(y_train, y_pred))*(len(y_train)-1)/(len(y_train)-X_train.shape[1]-1))\n",
    "print('MAE:',metrics.mean_absolute_error(y_train, y_pred))\n",
    "print('MSE:',metrics.mean_squared_error(y_train, y_pred))\n",
    "print('RMSE:',np.sqrt(metrics.mean_squared_error(y_train, y_pred)))"
   ]
  },
  {
   "cell_type": "markdown",
   "metadata": {},
   "source": [
    "Bestimmtheitsmaß R^2 (genauer adjusted R^2) beschreibt die Anpassungsgüte der Regression und dient für uns hier als Kennzahl für die \"Genauigkeit\" des Modells."
   ]
  },
  {
   "cell_type": "code",
   "execution_count": 16,
   "metadata": {},
   "outputs": [
    {
     "data": {
      "application/vnd.plotly.v1+json": {
       "config": {
        "plotlyServerURL": "https://plot.ly"
       },
       "data": [
        {
         "hovertemplate": "x=%{x}<br>y=%{y}<extra></extra>",
         "legendgroup": "",
         "marker": {
          "color": "#636efa",
          "opacity": 0.65,
          "symbol": "circle"
         },
         "mode": "markers",
         "name": "",
         "orientation": "v",
         "showlegend": false,
         "type": "scatter",
         "x": [
          8.78,
          5.85,
          5.859,
          5.707,
          6.405,
          6.152,
          6.301,
          7.135,
          8.069,
          5.972,
          6.064,
          6.495,
          5.783,
          5.928,
          6.642,
          6.23,
          6.484,
          6.482,
          6.436,
          6.226,
          7.358,
          6.343,
          6.98,
          6.112,
          5.961,
          6.348,
          6.223,
          5.604,
          6.861,
          6.375,
          6.389,
          5.727,
          5.869,
          7.249,
          5.926,
          5.936,
          6.172,
          5.957,
          6.726,
          5.878,
          5.39,
          7.088,
          6.77,
          6.417,
          6.567,
          6.167,
          6.395,
          6.373,
          6.405,
          5.593,
          6.317,
          7.393,
          6.376,
          7.155,
          5.272,
          6.03,
          6.251,
          5.968,
          6.943,
          4.963,
          7.412,
          6.096,
          6.739,
          4.97,
          6.404,
          6.683,
          5.836,
          5.879,
          7.267,
          6.229,
          6.383,
          5.404,
          6.242,
          5.019,
          6.092,
          5.872,
          5.961,
          6.635,
          5.885,
          6.153,
          6.635,
          6.975,
          5.759,
          5.889,
          4.138,
          6.417,
          6.185,
          6.041,
          6.968,
          5.852,
          6.232,
          6.229,
          5.92,
          5.933,
          6.794,
          6.037,
          6.854,
          5.706,
          6.144,
          5.693,
          6.345,
          4.906,
          5.884,
          6.727,
          6.216,
          6.678,
          6.939,
          6.411,
          5.891,
          5.88,
          6.485,
          6.316,
          6.312,
          7.016,
          7.061,
          5.841,
          5.854,
          6.29,
          6.416,
          6.009,
          5.731,
          7.024,
          6.63,
          5.713,
          6.003,
          6.31,
          6.458,
          6.38,
          6.059,
          6.398,
          6.474,
          6.13,
          7.82,
          5.927,
          6.549,
          6.047,
          7.147,
          6.315,
          6.826,
          5.741,
          8.034,
          6.127,
          7.327,
          6.019,
          6.152,
          7.47,
          6.461,
          5.399,
          6.211,
          6.874,
          6.426,
          5.713,
          6.629,
          8.247,
          7.104,
          6.142,
          6.453,
          7.454,
          5.887,
          6.49,
          5.985,
          6.358,
          7.007,
          5.414,
          7.831,
          6.593,
          5.565,
          6.167,
          6.951,
          6.129,
          5.602,
          6.606,
          6.565,
          5.757,
          7.313,
          6.998,
          6.004,
          6.421,
          5.834,
          6.202,
          6.254,
          5.613,
          5.594,
          7.82,
          6.174,
          6.701,
          5.454,
          6.086,
          5.468,
          6.481,
          7.875,
          4.652,
          6.341,
          6.406,
          5.617,
          6.556,
          5.987,
          7.185,
          6.127,
          5.96,
          7.107,
          8.266,
          6.114,
          6.051,
          5.404,
          7.185,
          6.674,
          6.108,
          4.926,
          6.649,
          6.59,
          8.398,
          6.619,
          7.148,
          6.312,
          6.302,
          7.274,
          5.913,
          3.561,
          5.822,
          6.376,
          6.812,
          6.604,
          6.193,
          6.718,
          5.95,
          6.108,
          5.036,
          6.021,
          6.575,
          6.51,
          5.628,
          5.951,
          6.014,
          5.983,
          5.875,
          6.982,
          8.259,
          6.065,
          6.43,
          7.041,
          6.286,
          5.572,
          5.412,
          6.727,
          6.25,
          6.951,
          5,
          5.186,
          6.8,
          7.203,
          6.86,
          6.122,
          7.079,
          6.326,
          6.113,
          6.516,
          6.176,
          5.597,
          6.245,
          5.818,
          6.625,
          6.75,
          7.929,
          6.219,
          5.966,
          6.382,
          6.434,
          5.981,
          7.287,
          6.438,
          6.431,
          6.98,
          6.169,
          6.616,
          6.879,
          6.266,
          6.372,
          5.935,
          5.856,
          5.786,
          6.513,
          6.431,
          5.362,
          7.206,
          6.121,
          5.965,
          5.813,
          3.863,
          6.454,
          6.762,
          5.896,
          6.728,
          5.663,
          5.79,
          6.618,
          6.315,
          5.599,
          6.12,
          7.765,
          6.377,
          8.375,
          6.24,
          6.02,
          6.151,
          5.403,
          6.273,
          5.093,
          7.686,
          6.824,
          6.031,
          5.456,
          6.968,
          6.096,
          6.209,
          5.87,
          6.728,
          6.009,
          5.277,
          5.648,
          5.876,
          5.966,
          7.416,
          5.304,
          6.425,
          5.986,
          6.393,
          6.794,
          5.536,
          5.631,
          6.163,
          6.696,
          6.525,
          6.437,
          6.069,
          5.012,
          6.14,
          5.854,
          5.569,
          6.162,
          5.803,
          4.368,
          6.417,
          5.914,
          6.122,
          5.787,
          6.471,
          5.56,
          6.781,
          6.006,
          5.942,
          6.816,
          6.137,
          5.747,
          6.852,
          5.888,
          6.842,
          6.402,
          6.279,
          5.67,
          6.103,
          4.903,
          5.705,
          7.333,
          8.704,
          5.782,
          6.511,
          5.708,
          5.857,
          5.349,
          7.014,
          6.145,
          6.03,
          6.897,
          6.749,
          5.52,
          6.833,
          6.495,
          6.115,
          6.715,
          5.868,
          5.531,
          7.489,
          5.898,
          6.095,
          5.39,
          6.162,
          5.963,
          6.758,
          6.319,
          6.849,
          5.701,
          5.875,
          6.249,
          5.807,
          5.757,
          8.337,
          6.442,
          6.782,
          6.015,
          5.682,
          6.456,
          6.63,
          5.99
         ],
         "xaxis": "x",
         "y": [
          21.9,
          21,
          22.6,
          21.8,
          12.5,
          15.6,
          14.9,
          32.9,
          38.7,
          20.3,
          24.4,
          18.4,
          22.5,
          18.3,
          28.7,
          20.1,
          16.7,
          29.1,
          14.3,
          20.5,
          31.5,
          7.2,
          29.8,
          22.6,
          20.5,
          14.5,
          10.2,
          26.4,
          28.5,
          28.1,
          23.9,
          18.2,
          19.5,
          35.4,
          24.5,
          13.5,
          27.1,
          8.8,
          29,
          22,
          19.7,
          32.2,
          26.6,
          13,
          23.8,
          22.9,
          21.7,
          23,
          22,
          17.6,
          19.5,
          17.8,
          17.7,
          37.9,
          13.1,
          16.6,
          12.6,
          18.7,
          41.3,
          21.9,
          31.7,
          13.5,
          30.5,
          50,
          12.1,
          50,
          19.5,
          18.8,
          33.2,
          19.6,
          24.7,
          19.3,
          23,
          14.4,
          18.7,
          20.4,
          21.7,
          22.8,
          20.9,
          29.6,
          24.5,
          34.9,
          19.9,
          21.7,
          13.8,
          24.2,
          14.6,
          20.4,
          35.4,
          6.3,
          21.2,
          21.4,
          20.7,
          18.9,
          13.3,
          21.1,
          32,
          17.1,
          19.8,
          16.2,
          22.5,
          13.8,
          18.6,
          27.5,
          50,
          28.6,
          26.6,
          16.7,
          22.6,
          19.1,
          15.4,
          22.2,
          21.2,
          50,
          25,
          20,
          10.8,
          23.5,
          23.6,
          18.9,
          19.3,
          34.9,
          26.6,
          12.7,
          19.1,
          20.7,
          19.2,
          9.5,
          20.6,
          25,
          19.8,
          13.8,
          45.4,
          19.6,
          27.1,
          14.8,
          36.2,
          22.3,
          33.1,
          18.7,
          50,
          23.9,
          31,
          21.2,
          8.7,
          43.5,
          9.6,
          14.4,
          25,
          31.2,
          23.8,
          15.1,
          13.4,
          48.3,
          33,
          15.2,
          22,
          44,
          12.7,
          22.9,
          19,
          22.2,
          23.6,
          7,
          50,
          22.4,
          11.7,
          19.9,
          26.7,
          17,
          19.4,
          23.3,
          24.8,
          15.6,
          15,
          33.4,
          20.3,
          21.6,
          19.9,
          10.9,
          18.5,
          15.7,
          17.4,
          43.8,
          14,
          16.4,
          15.2,
          24,
          15.6,
          23.7,
          50,
          10.5,
          14.9,
          17.1,
          17.2,
          29.8,
          5.6,
          34.9,
          22.7,
          21.7,
          30.3,
          44.8,
          19.1,
          23.2,
          19.6,
          34.7,
          21,
          21.9,
          14.6,
          13.9,
          22,
          48.8,
          23.9,
          37.3,
          23,
          24.8,
          34.6,
          18.8,
          27.5,
          18.4,
          23.1,
          35.1,
          29.1,
          11,
          26.2,
          13.2,
          24.3,
          9.7,
          19.2,
          24,
          23.3,
          15.6,
          21.5,
          17.5,
          20.1,
          50,
          33.1,
          42.8,
          22.8,
          28.7,
          29,
          21.4,
          23.1,
          23.7,
          28,
          27,
          37,
          7.4,
          17.8,
          31.1,
          33.8,
          29.9,
          22.1,
          28.7,
          24.4,
          21,
          23.1,
          21.2,
          15.4,
          23.4,
          10.5,
          28.4,
          23.7,
          50,
          18.4,
          16,
          23.1,
          7.2,
          24.3,
          33.3,
          24.8,
          18,
          37.2,
          25.3,
          28.4,
          27.5,
          21.6,
          23,
          8.4,
          17.3,
          20,
          20.2,
          24.6,
          20.8,
          36.5,
          22.2,
          19.6,
          14.5,
          23.1,
          17.1,
          25,
          8.3,
          30.1,
          18.2,
          20.3,
          30.1,
          24.6,
          13.9,
          20.6,
          39.8,
          15,
          50,
          25.2,
          23.2,
          17.8,
          13.4,
          24.1,
          8.1,
          46.7,
          8.4,
          19.4,
          20.2,
          10.4,
          18.2,
          23.2,
          22,
          14.9,
          21.7,
          7.2,
          20.8,
          20.9,
          24.7,
          33.2,
          12,
          16.1,
          21.4,
          23.7,
          22,
          11.3,
          16.5,
          21.4,
          23.9,
          14.1,
          23.2,
          21.2,
          15.3,
          20.8,
          22.7,
          17.5,
          13.3,
          16.8,
          8.8,
          22.6,
          17.8,
          21.5,
          19.4,
          13.1,
          22.8,
          26.5,
          14.2,
          17.4,
          31.6,
          19.3,
          8.5,
          27.5,
          18.9,
          30.1,
          22.3,
          20,
          23.1,
          13.4,
          11.8,
          16.2,
          36,
          50,
          19.8,
          25,
          18.5,
          13.3,
          8.3,
          30.7,
          23.3,
          11.9,
          22,
          13.4,
          12.3,
          14.1,
          26.4,
          20.5,
          22.8,
          19.3,
          8.5,
          50,
          17.2,
          20.1,
          11.5,
          24.1,
          19.7,
          32.4,
          23.8,
          28.2,
          13.1,
          17.4,
          20.6,
          22.4,
          15,
          41.7,
          22.9,
          32,
          22.5,
          19.3,
          22.2,
          27.9,
          17.5
         ],
         "yaxis": "y"
        },
        {
         "hovertemplate": "<b>OLS trendline</b><br>y = 8.73408 * x + -32.389<br>R<sup>2</sup>=0.441795<br><br>x=%{x}<br>y=%{y} <b>(trend)</b><extra></extra>",
         "legendgroup": "",
         "line": {
          "color": "red"
         },
         "marker": {
          "color": "#636efa",
          "symbol": "circle"
         },
         "mode": "lines",
         "name": "",
         "showlegend": false,
         "type": "scatter",
         "x": [
          3.561,
          3.863,
          4.138,
          4.368,
          4.652,
          4.903,
          4.906,
          4.926,
          4.963,
          4.97,
          5,
          5.012,
          5.019,
          5.036,
          5.093,
          5.186,
          5.272,
          5.277,
          5.304,
          5.349,
          5.362,
          5.39,
          5.39,
          5.399,
          5.403,
          5.404,
          5.404,
          5.412,
          5.414,
          5.454,
          5.456,
          5.468,
          5.52,
          5.531,
          5.536,
          5.56,
          5.565,
          5.569,
          5.572,
          5.593,
          5.594,
          5.597,
          5.599,
          5.602,
          5.604,
          5.613,
          5.617,
          5.628,
          5.631,
          5.648,
          5.663,
          5.67,
          5.682,
          5.693,
          5.701,
          5.705,
          5.706,
          5.707,
          5.708,
          5.713,
          5.713,
          5.727,
          5.731,
          5.741,
          5.747,
          5.757,
          5.757,
          5.759,
          5.782,
          5.783,
          5.786,
          5.787,
          5.79,
          5.803,
          5.807,
          5.813,
          5.818,
          5.822,
          5.834,
          5.836,
          5.841,
          5.85,
          5.852,
          5.854,
          5.854,
          5.856,
          5.857,
          5.859,
          5.868,
          5.869,
          5.87,
          5.872,
          5.875,
          5.875,
          5.876,
          5.878,
          5.879,
          5.88,
          5.884,
          5.885,
          5.887,
          5.888,
          5.889,
          5.891,
          5.896,
          5.898,
          5.913,
          5.914,
          5.92,
          5.926,
          5.927,
          5.928,
          5.933,
          5.935,
          5.936,
          5.942,
          5.95,
          5.951,
          5.957,
          5.96,
          5.961,
          5.961,
          5.963,
          5.965,
          5.966,
          5.966,
          5.968,
          5.972,
          5.981,
          5.983,
          5.985,
          5.986,
          5.987,
          5.99,
          6.003,
          6.004,
          6.006,
          6.009,
          6.009,
          6.014,
          6.015,
          6.019,
          6.02,
          6.021,
          6.03,
          6.03,
          6.031,
          6.037,
          6.041,
          6.047,
          6.051,
          6.059,
          6.064,
          6.065,
          6.069,
          6.086,
          6.092,
          6.095,
          6.096,
          6.096,
          6.103,
          6.108,
          6.108,
          6.112,
          6.113,
          6.114,
          6.115,
          6.12,
          6.121,
          6.122,
          6.122,
          6.127,
          6.127,
          6.129,
          6.13,
          6.137,
          6.14,
          6.142,
          6.144,
          6.145,
          6.151,
          6.152,
          6.152,
          6.153,
          6.162,
          6.162,
          6.163,
          6.167,
          6.167,
          6.169,
          6.172,
          6.174,
          6.176,
          6.185,
          6.193,
          6.202,
          6.209,
          6.211,
          6.216,
          6.219,
          6.223,
          6.226,
          6.229,
          6.229,
          6.23,
          6.232,
          6.24,
          6.242,
          6.245,
          6.249,
          6.25,
          6.251,
          6.254,
          6.266,
          6.273,
          6.279,
          6.286,
          6.29,
          6.301,
          6.302,
          6.31,
          6.312,
          6.312,
          6.315,
          6.315,
          6.316,
          6.317,
          6.319,
          6.326,
          6.341,
          6.343,
          6.345,
          6.348,
          6.358,
          6.372,
          6.373,
          6.375,
          6.376,
          6.376,
          6.377,
          6.38,
          6.382,
          6.383,
          6.389,
          6.393,
          6.395,
          6.398,
          6.402,
          6.404,
          6.405,
          6.405,
          6.406,
          6.411,
          6.416,
          6.417,
          6.417,
          6.417,
          6.421,
          6.425,
          6.426,
          6.43,
          6.431,
          6.431,
          6.434,
          6.436,
          6.437,
          6.438,
          6.442,
          6.453,
          6.454,
          6.456,
          6.458,
          6.461,
          6.471,
          6.474,
          6.481,
          6.482,
          6.484,
          6.485,
          6.49,
          6.495,
          6.495,
          6.51,
          6.511,
          6.513,
          6.516,
          6.525,
          6.549,
          6.556,
          6.565,
          6.567,
          6.575,
          6.59,
          6.593,
          6.604,
          6.606,
          6.616,
          6.618,
          6.619,
          6.625,
          6.629,
          6.63,
          6.63,
          6.635,
          6.635,
          6.642,
          6.649,
          6.674,
          6.678,
          6.683,
          6.696,
          6.701,
          6.715,
          6.718,
          6.726,
          6.727,
          6.727,
          6.728,
          6.728,
          6.739,
          6.749,
          6.75,
          6.758,
          6.762,
          6.77,
          6.781,
          6.782,
          6.794,
          6.794,
          6.8,
          6.812,
          6.816,
          6.824,
          6.826,
          6.833,
          6.842,
          6.849,
          6.852,
          6.854,
          6.86,
          6.861,
          6.874,
          6.879,
          6.897,
          6.939,
          6.943,
          6.951,
          6.951,
          6.968,
          6.968,
          6.975,
          6.98,
          6.98,
          6.982,
          6.998,
          7.007,
          7.014,
          7.016,
          7.024,
          7.041,
          7.061,
          7.079,
          7.088,
          7.104,
          7.107,
          7.135,
          7.147,
          7.148,
          7.155,
          7.185,
          7.185,
          7.203,
          7.206,
          7.249,
          7.267,
          7.274,
          7.287,
          7.313,
          7.327,
          7.333,
          7.358,
          7.393,
          7.412,
          7.416,
          7.454,
          7.47,
          7.489,
          7.686,
          7.765,
          7.82,
          7.82,
          7.831,
          7.875,
          7.929,
          8.034,
          8.069,
          8.247,
          8.259,
          8.266,
          8.337,
          8.375,
          8.398,
          8.704,
          8.78
         ],
         "xaxis": "x",
         "y": [
          -1.286925317935605,
          1.3507667165051984,
          3.752638602171494,
          5.761476906546939,
          8.2419555084714,
          10.434209484115904,
          10.460411722868628,
          10.635093314553451,
          10.958254259170374,
          11.019392816260059,
          11.28141520378729,
          11.386224158798179,
          11.44736271588787,
          11.59584206881997,
          12.093684605121709,
          12.905954006456128,
          13.657084850700862,
          13.700755248622066,
          13.936575397396581,
          14.329608978687425,
          14.443152013282557,
          14.687706241641308,
          14.687706241641308,
          14.76631295789948,
          14.80124927623644,
          14.809983355820684,
          14.809983355820684,
          14.879855992494612,
          14.897324151663092,
          15.246687335032732,
          15.26415549420122,
          15.368964449212115,
          15.823136587592643,
          15.919211463019295,
          15.962881860940499,
          16.17249977096229,
          16.2161701688835,
          16.25110648722046,
          16.277308725973185,
          16.460724397242245,
          16.46945847682649,
          16.495660715579213,
          16.513128874747693,
          16.539331113500417,
          16.556799272668897,
          16.63540598892707,
          16.67034230726403,
          16.76641718269068,
          16.792619421443405,
          16.941098774375504,
          17.072109968139124,
          17.133248525228808,
          17.238057480239704,
          17.33413235566635,
          17.404004992340276,
          17.438941310677244,
          17.447675390261487,
          17.456409469845724,
          17.465143549429968,
          17.50881394735117,
          17.50881394735117,
          17.631091061530547,
          17.666027379867508,
          17.753368175709923,
          17.80577265321537,
          17.89311344905778,
          17.89311344905778,
          17.910581608226266,
          18.111465438663807,
          18.12019951824805,
          18.146401757000767,
          18.15513583658501,
          18.181338075337734,
          18.294881109932867,
          18.329817428269834,
          18.382221905775275,
          18.42589230369648,
          18.460828622033453,
          18.565637577044342,
          18.58310573621283,
          18.626776134134033,
          18.705382850392198,
          18.722851009560685,
          18.740319168729165,
          18.740319168729165,
          18.757787327897645,
          18.76652140748189,
          18.78398956665037,
          18.86259628290854,
          18.871330362492778,
          18.88006444207702,
          18.8975326012455,
          18.923734839998225,
          18.923734839998225,
          18.93246891958247,
          18.94993707875095,
          18.958671158335186,
          18.96740523791943,
          19.002341556256397,
          19.011075635840633,
          19.028543795009114,
          19.037277874593357,
          19.0460119541776,
          19.06348011334608,
          19.107150511267285,
          19.124618670435765,
          19.255629864199392,
          19.26436394378363,
          19.316768421289076,
          19.369172898794524,
          19.37790697837876,
          19.386641057963004,
          19.43031145588421,
          19.44777961505269,
          19.456513694636932,
          19.50891817214238,
          19.578790808816308,
          19.587524888400544,
          19.639929365905992,
          19.666131604658716,
          19.67486568424296,
          19.67486568424296,
          19.69233384341144,
          19.70980200257992,
          19.718536082164164,
          19.718536082164164,
          19.736004241332644,
          19.77094055966961,
          19.849547275927776,
          19.867015435096256,
          19.884483594264744,
          19.89321767384898,
          19.901951753433224,
          19.928153992185948,
          20.041697026781087,
          20.050431106365316,
          20.06789926553381,
          20.094101504286535,
          20.094101504286535,
          20.13777190220774,
          20.146505981791975,
          20.181442300128943,
          20.19017637971318,
          20.198910459297423,
          20.277517175555595,
          20.277517175555595,
          20.28625125513983,
          20.33865573264528,
          20.373592050982246,
          20.425996528487687,
          20.460932846824655,
          20.530805483498582,
          20.574475881419787,
          20.58320996100403,
          20.61814627934099,
          20.76662563227309,
          20.81903010977853,
          20.845232348531262,
          20.853966428115505,
          20.853966428115505,
          20.91510498520519,
          20.958775383126394,
          20.958775383126394,
          20.99371170146336,
          21.002445781047605,
          21.01117986063184,
          21.019913940216085,
          21.06358433813729,
          21.072318417721533,
          21.08105249730577,
          21.08105249730577,
          21.124722895226974,
          21.124722895226974,
          21.142191054395454,
          21.150925133979698,
          21.212063691069382,
          21.238265929822106,
          21.255734088990593,
          21.273202248159073,
          21.28193632774331,
          21.334340805248758,
          21.343074884833,
          21.343074884833,
          21.351808964417238,
          21.43041568067541,
          21.43041568067541,
          21.439149760259653,
          21.474086078596613,
          21.474086078596613,
          21.491554237765094,
          21.517756476517818,
          21.535224635686305,
          21.552692794854785,
          21.631299511112957,
          21.701172147786885,
          21.779778864045056,
          21.84091742113474,
          21.858385580303228,
          21.902055978224432,
          21.928258216977156,
          21.963194535314116,
          21.98939677406684,
          22.015599012819564,
          22.015599012819564,
          22.024333092403808,
          22.041801251572288,
          22.111673888246216,
          22.129142047414696,
          22.15534428616742,
          22.19028060450438,
          22.199014684088624,
          22.207748763672868,
          22.233951002425584,
          22.33875995743648,
          22.39989851452617,
          22.45230299203162,
          22.513441549121303,
          22.54837786745827,
          22.644452742884923,
          22.65318682246916,
          22.723059459143087,
          22.740527618311575,
          22.740527618311575,
          22.7667298570643,
          22.7667298570643,
          22.775463936648535,
          22.78419801623278,
          22.80166617540126,
          22.862804732490943,
          22.993815926254562,
          23.011284085423043,
          23.028752244591523,
          23.054954483344247,
          23.142295279186655,
          23.264572393366038,
          23.27330647295028,
          23.29077463211876,
          23.299508711703005,
          23.299508711703005,
          23.308242791287242,
          23.334445030039966,
          23.351913189208446,
          23.36064726879269,
          23.413051746298137,
          23.447988064635098,
          23.465456223803578,
          23.491658462556302,
          23.52659478089327,
          23.54406294006175,
          23.552797019645993,
          23.552797019645993,
          23.56153109923023,
          23.605201497151434,
          23.648871895072645,
          23.65760597465688,
          23.65760597465688,
          23.65760597465688,
          23.69254229299385,
          23.72747861133081,
          23.736212690915053,
          23.771149009252014,
          23.779883088836257,
          23.779883088836257,
          23.80608532758898,
          23.82355348675746,
          23.832287566341705,
          23.84102164592594,
          23.87595796426291,
          23.972032839689568,
          23.980766919273805,
          23.998235078442292,
          24.015703237610772,
          24.041905476363496,
          24.129246272205904,
          24.155448510958628,
          24.216587068048312,
          24.225321147632556,
          24.242789306801036,
          24.25152338638528,
          24.295193784306484,
          24.338864182227688,
          24.338864182227688,
          24.4698753759913,
          24.478609455575544,
          24.496077614744024,
          24.522279853496748,
          24.60088656975492,
          24.81050447977671,
          24.871643036866395,
          24.950249753124567,
          24.967717912293047,
          25.037590548966975,
          25.168601742730587,
          25.19480398148331,
          25.290878856909963,
          25.308347016078443,
          25.39568781192085,
          25.41315597108934,
          25.421890050673575,
          25.47429452817903,
          25.50923084651599,
          25.517964926100234,
          25.517964926100234,
          25.561635324021438,
          25.561635324021438,
          25.62277388111113,
          25.683912438200814,
          25.90226442780684,
          25.9372007461438,
          25.980871144065006,
          26.094414178660138,
          26.138084576581342,
          26.260361690760725,
          26.28656392951345,
          26.356436566187377,
          26.36517064577162,
          26.36517064577162,
          26.373904725355857,
          26.373904725355857,
          26.46997960078251,
          26.557320396624917,
          26.56605447620916,
          26.63592711288309,
          26.67086343122005,
          26.740736067893977,
          26.83681094332063,
          26.845545022904872,
          26.95035397791576,
          26.95035397791576,
          27.00275845542121,
          27.10756741043211,
          27.14250372876907,
          27.212376365443,
          27.22984452461148,
          27.29098308170117,
          27.369589797959335,
          27.430728355049027,
          27.45693059380175,
          27.47439875297023,
          27.52680323047568,
          27.535537310059915,
          27.649080344655047,
          27.69275074257625,
          27.8499641750926,
          28.21679551763072,
          28.251731835967682,
          28.32160447264161,
          28.32160447264161,
          28.47008382557371,
          28.47008382557371,
          28.531222382663394,
          28.574892780584612,
          28.574892780584612,
          28.592360939753092,
          28.73210621310095,
          28.810712929359113,
          28.871851486448804,
          28.889319645617284,
          28.959192282291212,
          29.107671635223312,
          29.28235322690813,
          29.43956665942447,
          29.518173375682643,
          29.6579186490305,
          29.684120887783223,
          29.928675116141967,
          30.033484071152863,
          30.0422181507371,
          30.103356707826798,
          30.365379095354022,
          30.365379095354022,
          30.522592527870366,
          30.54879476662309,
          30.924360188745453,
          31.081573621261796,
          31.14271217835148,
          31.256255212946613,
          31.483341282136877,
          31.605618396316252,
          31.658022873821707,
          31.876374863427728,
          32.18206764887617,
          32.34801516097674,
          32.38295147931372,
          32.71484650351486,
          32.85459177686273,
          33.020539288963306,
          34.741152967058795,
          35.431145254213845,
          35.911519631347105,
          35.911519631347105,
          36.007594506773756,
          36.391894008480364,
          36.86353430602938,
          37.78061266237469,
          38.086305447823136,
          39.64097161381804,
          39.745780568828934,
          39.80691912591861,
          40.427038776399726,
          40.7589338006009,
          40.95981763103843,
          43.63244598381621,
          44.296236032218516
         ],
         "yaxis": "y"
        }
       ],
       "layout": {
        "legend": {
         "tracegroupgap": 0
        },
        "margin": {
         "t": 60
        },
        "template": {
         "data": {
          "bar": [
           {
            "error_x": {
             "color": "#2a3f5f"
            },
            "error_y": {
             "color": "#2a3f5f"
            },
            "marker": {
             "line": {
              "color": "#E5ECF6",
              "width": 0.5
             },
             "pattern": {
              "fillmode": "overlay",
              "size": 10,
              "solidity": 0.2
             }
            },
            "type": "bar"
           }
          ],
          "barpolar": [
           {
            "marker": {
             "line": {
              "color": "#E5ECF6",
              "width": 0.5
             },
             "pattern": {
              "fillmode": "overlay",
              "size": 10,
              "solidity": 0.2
             }
            },
            "type": "barpolar"
           }
          ],
          "carpet": [
           {
            "aaxis": {
             "endlinecolor": "#2a3f5f",
             "gridcolor": "white",
             "linecolor": "white",
             "minorgridcolor": "white",
             "startlinecolor": "#2a3f5f"
            },
            "baxis": {
             "endlinecolor": "#2a3f5f",
             "gridcolor": "white",
             "linecolor": "white",
             "minorgridcolor": "white",
             "startlinecolor": "#2a3f5f"
            },
            "type": "carpet"
           }
          ],
          "choropleth": [
           {
            "colorbar": {
             "outlinewidth": 0,
             "ticks": ""
            },
            "type": "choropleth"
           }
          ],
          "contour": [
           {
            "colorbar": {
             "outlinewidth": 0,
             "ticks": ""
            },
            "colorscale": [
             [
              0,
              "#0d0887"
             ],
             [
              0.1111111111111111,
              "#46039f"
             ],
             [
              0.2222222222222222,
              "#7201a8"
             ],
             [
              0.3333333333333333,
              "#9c179e"
             ],
             [
              0.4444444444444444,
              "#bd3786"
             ],
             [
              0.5555555555555556,
              "#d8576b"
             ],
             [
              0.6666666666666666,
              "#ed7953"
             ],
             [
              0.7777777777777778,
              "#fb9f3a"
             ],
             [
              0.8888888888888888,
              "#fdca26"
             ],
             [
              1,
              "#f0f921"
             ]
            ],
            "type": "contour"
           }
          ],
          "contourcarpet": [
           {
            "colorbar": {
             "outlinewidth": 0,
             "ticks": ""
            },
            "type": "contourcarpet"
           }
          ],
          "heatmap": [
           {
            "colorbar": {
             "outlinewidth": 0,
             "ticks": ""
            },
            "colorscale": [
             [
              0,
              "#0d0887"
             ],
             [
              0.1111111111111111,
              "#46039f"
             ],
             [
              0.2222222222222222,
              "#7201a8"
             ],
             [
              0.3333333333333333,
              "#9c179e"
             ],
             [
              0.4444444444444444,
              "#bd3786"
             ],
             [
              0.5555555555555556,
              "#d8576b"
             ],
             [
              0.6666666666666666,
              "#ed7953"
             ],
             [
              0.7777777777777778,
              "#fb9f3a"
             ],
             [
              0.8888888888888888,
              "#fdca26"
             ],
             [
              1,
              "#f0f921"
             ]
            ],
            "type": "heatmap"
           }
          ],
          "heatmapgl": [
           {
            "colorbar": {
             "outlinewidth": 0,
             "ticks": ""
            },
            "colorscale": [
             [
              0,
              "#0d0887"
             ],
             [
              0.1111111111111111,
              "#46039f"
             ],
             [
              0.2222222222222222,
              "#7201a8"
             ],
             [
              0.3333333333333333,
              "#9c179e"
             ],
             [
              0.4444444444444444,
              "#bd3786"
             ],
             [
              0.5555555555555556,
              "#d8576b"
             ],
             [
              0.6666666666666666,
              "#ed7953"
             ],
             [
              0.7777777777777778,
              "#fb9f3a"
             ],
             [
              0.8888888888888888,
              "#fdca26"
             ],
             [
              1,
              "#f0f921"
             ]
            ],
            "type": "heatmapgl"
           }
          ],
          "histogram": [
           {
            "marker": {
             "pattern": {
              "fillmode": "overlay",
              "size": 10,
              "solidity": 0.2
             }
            },
            "type": "histogram"
           }
          ],
          "histogram2d": [
           {
            "colorbar": {
             "outlinewidth": 0,
             "ticks": ""
            },
            "colorscale": [
             [
              0,
              "#0d0887"
             ],
             [
              0.1111111111111111,
              "#46039f"
             ],
             [
              0.2222222222222222,
              "#7201a8"
             ],
             [
              0.3333333333333333,
              "#9c179e"
             ],
             [
              0.4444444444444444,
              "#bd3786"
             ],
             [
              0.5555555555555556,
              "#d8576b"
             ],
             [
              0.6666666666666666,
              "#ed7953"
             ],
             [
              0.7777777777777778,
              "#fb9f3a"
             ],
             [
              0.8888888888888888,
              "#fdca26"
             ],
             [
              1,
              "#f0f921"
             ]
            ],
            "type": "histogram2d"
           }
          ],
          "histogram2dcontour": [
           {
            "colorbar": {
             "outlinewidth": 0,
             "ticks": ""
            },
            "colorscale": [
             [
              0,
              "#0d0887"
             ],
             [
              0.1111111111111111,
              "#46039f"
             ],
             [
              0.2222222222222222,
              "#7201a8"
             ],
             [
              0.3333333333333333,
              "#9c179e"
             ],
             [
              0.4444444444444444,
              "#bd3786"
             ],
             [
              0.5555555555555556,
              "#d8576b"
             ],
             [
              0.6666666666666666,
              "#ed7953"
             ],
             [
              0.7777777777777778,
              "#fb9f3a"
             ],
             [
              0.8888888888888888,
              "#fdca26"
             ],
             [
              1,
              "#f0f921"
             ]
            ],
            "type": "histogram2dcontour"
           }
          ],
          "mesh3d": [
           {
            "colorbar": {
             "outlinewidth": 0,
             "ticks": ""
            },
            "type": "mesh3d"
           }
          ],
          "parcoords": [
           {
            "line": {
             "colorbar": {
              "outlinewidth": 0,
              "ticks": ""
             }
            },
            "type": "parcoords"
           }
          ],
          "pie": [
           {
            "automargin": true,
            "type": "pie"
           }
          ],
          "scatter": [
           {
            "marker": {
             "colorbar": {
              "outlinewidth": 0,
              "ticks": ""
             }
            },
            "type": "scatter"
           }
          ],
          "scatter3d": [
           {
            "line": {
             "colorbar": {
              "outlinewidth": 0,
              "ticks": ""
             }
            },
            "marker": {
             "colorbar": {
              "outlinewidth": 0,
              "ticks": ""
             }
            },
            "type": "scatter3d"
           }
          ],
          "scattercarpet": [
           {
            "marker": {
             "colorbar": {
              "outlinewidth": 0,
              "ticks": ""
             }
            },
            "type": "scattercarpet"
           }
          ],
          "scattergeo": [
           {
            "marker": {
             "colorbar": {
              "outlinewidth": 0,
              "ticks": ""
             }
            },
            "type": "scattergeo"
           }
          ],
          "scattergl": [
           {
            "marker": {
             "colorbar": {
              "outlinewidth": 0,
              "ticks": ""
             }
            },
            "type": "scattergl"
           }
          ],
          "scattermapbox": [
           {
            "marker": {
             "colorbar": {
              "outlinewidth": 0,
              "ticks": ""
             }
            },
            "type": "scattermapbox"
           }
          ],
          "scatterpolar": [
           {
            "marker": {
             "colorbar": {
              "outlinewidth": 0,
              "ticks": ""
             }
            },
            "type": "scatterpolar"
           }
          ],
          "scatterpolargl": [
           {
            "marker": {
             "colorbar": {
              "outlinewidth": 0,
              "ticks": ""
             }
            },
            "type": "scatterpolargl"
           }
          ],
          "scatterternary": [
           {
            "marker": {
             "colorbar": {
              "outlinewidth": 0,
              "ticks": ""
             }
            },
            "type": "scatterternary"
           }
          ],
          "surface": [
           {
            "colorbar": {
             "outlinewidth": 0,
             "ticks": ""
            },
            "colorscale": [
             [
              0,
              "#0d0887"
             ],
             [
              0.1111111111111111,
              "#46039f"
             ],
             [
              0.2222222222222222,
              "#7201a8"
             ],
             [
              0.3333333333333333,
              "#9c179e"
             ],
             [
              0.4444444444444444,
              "#bd3786"
             ],
             [
              0.5555555555555556,
              "#d8576b"
             ],
             [
              0.6666666666666666,
              "#ed7953"
             ],
             [
              0.7777777777777778,
              "#fb9f3a"
             ],
             [
              0.8888888888888888,
              "#fdca26"
             ],
             [
              1,
              "#f0f921"
             ]
            ],
            "type": "surface"
           }
          ],
          "table": [
           {
            "cells": {
             "fill": {
              "color": "#EBF0F8"
             },
             "line": {
              "color": "white"
             }
            },
            "header": {
             "fill": {
              "color": "#C8D4E3"
             },
             "line": {
              "color": "white"
             }
            },
            "type": "table"
           }
          ]
         },
         "layout": {
          "annotationdefaults": {
           "arrowcolor": "#2a3f5f",
           "arrowhead": 0,
           "arrowwidth": 1
          },
          "autotypenumbers": "strict",
          "coloraxis": {
           "colorbar": {
            "outlinewidth": 0,
            "ticks": ""
           }
          },
          "colorscale": {
           "diverging": [
            [
             0,
             "#8e0152"
            ],
            [
             0.1,
             "#c51b7d"
            ],
            [
             0.2,
             "#de77ae"
            ],
            [
             0.3,
             "#f1b6da"
            ],
            [
             0.4,
             "#fde0ef"
            ],
            [
             0.5,
             "#f7f7f7"
            ],
            [
             0.6,
             "#e6f5d0"
            ],
            [
             0.7,
             "#b8e186"
            ],
            [
             0.8,
             "#7fbc41"
            ],
            [
             0.9,
             "#4d9221"
            ],
            [
             1,
             "#276419"
            ]
           ],
           "sequential": [
            [
             0,
             "#0d0887"
            ],
            [
             0.1111111111111111,
             "#46039f"
            ],
            [
             0.2222222222222222,
             "#7201a8"
            ],
            [
             0.3333333333333333,
             "#9c179e"
            ],
            [
             0.4444444444444444,
             "#bd3786"
            ],
            [
             0.5555555555555556,
             "#d8576b"
            ],
            [
             0.6666666666666666,
             "#ed7953"
            ],
            [
             0.7777777777777778,
             "#fb9f3a"
            ],
            [
             0.8888888888888888,
             "#fdca26"
            ],
            [
             1,
             "#f0f921"
            ]
           ],
           "sequentialminus": [
            [
             0,
             "#0d0887"
            ],
            [
             0.1111111111111111,
             "#46039f"
            ],
            [
             0.2222222222222222,
             "#7201a8"
            ],
            [
             0.3333333333333333,
             "#9c179e"
            ],
            [
             0.4444444444444444,
             "#bd3786"
            ],
            [
             0.5555555555555556,
             "#d8576b"
            ],
            [
             0.6666666666666666,
             "#ed7953"
            ],
            [
             0.7777777777777778,
             "#fb9f3a"
            ],
            [
             0.8888888888888888,
             "#fdca26"
            ],
            [
             1,
             "#f0f921"
            ]
           ]
          },
          "colorway": [
           "#636efa",
           "#EF553B",
           "#00cc96",
           "#ab63fa",
           "#FFA15A",
           "#19d3f3",
           "#FF6692",
           "#B6E880",
           "#FF97FF",
           "#FECB52"
          ],
          "font": {
           "color": "#2a3f5f"
          },
          "geo": {
           "bgcolor": "white",
           "lakecolor": "white",
           "landcolor": "#E5ECF6",
           "showlakes": true,
           "showland": true,
           "subunitcolor": "white"
          },
          "hoverlabel": {
           "align": "left"
          },
          "hovermode": "closest",
          "mapbox": {
           "style": "light"
          },
          "paper_bgcolor": "white",
          "plot_bgcolor": "#E5ECF6",
          "polar": {
           "angularaxis": {
            "gridcolor": "white",
            "linecolor": "white",
            "ticks": ""
           },
           "bgcolor": "#E5ECF6",
           "radialaxis": {
            "gridcolor": "white",
            "linecolor": "white",
            "ticks": ""
           }
          },
          "scene": {
           "xaxis": {
            "backgroundcolor": "#E5ECF6",
            "gridcolor": "white",
            "gridwidth": 2,
            "linecolor": "white",
            "showbackground": true,
            "ticks": "",
            "zerolinecolor": "white"
           },
           "yaxis": {
            "backgroundcolor": "#E5ECF6",
            "gridcolor": "white",
            "gridwidth": 2,
            "linecolor": "white",
            "showbackground": true,
            "ticks": "",
            "zerolinecolor": "white"
           },
           "zaxis": {
            "backgroundcolor": "#E5ECF6",
            "gridcolor": "white",
            "gridwidth": 2,
            "linecolor": "white",
            "showbackground": true,
            "ticks": "",
            "zerolinecolor": "white"
           }
          },
          "shapedefaults": {
           "line": {
            "color": "#2a3f5f"
           }
          },
          "ternary": {
           "aaxis": {
            "gridcolor": "white",
            "linecolor": "white",
            "ticks": ""
           },
           "baxis": {
            "gridcolor": "white",
            "linecolor": "white",
            "ticks": ""
           },
           "bgcolor": "#E5ECF6",
           "caxis": {
            "gridcolor": "white",
            "linecolor": "white",
            "ticks": ""
           }
          },
          "title": {
           "x": 0.05
          },
          "xaxis": {
           "automargin": true,
           "gridcolor": "white",
           "linecolor": "white",
           "ticks": "",
           "title": {
            "standoff": 15
           },
           "zerolinecolor": "white",
           "zerolinewidth": 2
          },
          "yaxis": {
           "automargin": true,
           "gridcolor": "white",
           "linecolor": "white",
           "ticks": "",
           "title": {
            "standoff": 15
           },
           "zerolinecolor": "white",
           "zerolinewidth": 2
          }
         }
        },
        "xaxis": {
         "anchor": "y",
         "domain": [
          0,
          1
         ],
         "title": {
          "text": "x"
         }
        },
        "yaxis": {
         "anchor": "x",
         "domain": [
          0,
          1
         ],
         "title": {
          "text": "y"
         }
        }
       }
      }
     },
     "metadata": {},
     "output_type": "display_data"
    }
   ],
   "source": [
    "px.scatter(x=X_train['RM'], y=y_train, opacity=0.65, \n",
    "                trendline='ols', trendline_color_override='darkred')"
   ]
  },
  {
   "cell_type": "markdown",
   "metadata": {},
   "source": [
    "Regressionsgerade für RM (durchschnittliche Anzahl der Zimmer pro Wohnung)"
   ]
  },
  {
   "cell_type": "code",
   "execution_count": 17,
   "metadata": {},
   "outputs": [
    {
     "data": {
      "application/vnd.plotly.v1+json": {
       "config": {
        "plotlyServerURL": "https://plot.ly"
       },
       "data": [
        {
         "hovertemplate": "x=%{x}<br>y=%{y}<extra></extra>",
         "legendgroup": "",
         "marker": {
          "color": "#636efa",
          "opacity": 0.65,
          "symbol": "circle"
         },
         "mode": "markers",
         "name": "",
         "orientation": "v",
         "showlegend": false,
         "type": "scatter",
         "x": [
          5.29,
          8.77,
          9.64,
          12.01,
          19.37,
          15.02,
          16.23,
          4.45,
          4.21,
          9.97,
          14.66,
          12.8,
          18.06,
          15.76,
          9.69,
          12.93,
          18.68,
          7.19,
          16.22,
          10.15,
          4.73,
          20.32,
          11.66,
          12.67,
          17.93,
          17.64,
          21.78,
          13.98,
          3.33,
          9.38,
          9.62,
          11.28,
          9.8,
          4.81,
          13.59,
          16.94,
          19.15,
          20.62,
          8.05,
          8.1,
          21.14,
          7.85,
          4.84,
          19.31,
          9.28,
          7.51,
          13.27,
          10.5,
          8.2,
          12.5,
          13.99,
          16.74,
          14.65,
          4.82,
          16.14,
          18.8,
          16.44,
          9.29,
          4.59,
          14,
          5.25,
          20.34,
          4.69,
          3.26,
          20.31,
          3.73,
          18.66,
          17.58,
          6.05,
          12.87,
          5.77,
          23.98,
          10.74,
          34.41,
          17.09,
          15.37,
          9.88,
          4.54,
          8.79,
          13.15,
          5.99,
          4.56,
          14.13,
          15.71,
          37.97,
          6.72,
          18.03,
          7.7,
          4.59,
          29.97,
          12.34,
          13.11,
          13.65,
          9.68,
          21.24,
          8.01,
          2.98,
          12.43,
          9.09,
          17.19,
          4.97,
          34.77,
          7.79,
          9.42,
          9.53,
          6.27,
          5.89,
          15.02,
          10.87,
          12.03,
          18.85,
          5.68,
          10.58,
          2.96,
          7.01,
          11.41,
          23.79,
          4.67,
          9.04,
          13.27,
          13.61,
          1.98,
          6.53,
          22.6,
          21.32,
          6.75,
          12.6,
          24.08,
          8.51,
          7.79,
          12.27,
          27.8,
          3.76,
          9.22,
          7.39,
          17.28,
          5.33,
          7.6,
          4.16,
          13.15,
          2.88,
          8.58,
          11.25,
          12.92,
          26.45,
          3.16,
          18.05,
          30.81,
          6.21,
          4.61,
          7.2,
          17.11,
          23.27,
          3.95,
          8.05,
          18.72,
          8.23,
          3.11,
          16.35,
          5.98,
          9.74,
          11.22,
          5.5,
          23.97,
          4.45,
          9.67,
          17.16,
          16.29,
          9.71,
          15.12,
          16.2,
          7.37,
          9.51,
          17.31,
          13.44,
          2.94,
          14.27,
          9.14,
          8.47,
          14.52,
          10.45,
          27.26,
          13.09,
          3.57,
          24.16,
          16.42,
          18.06,
          10.88,
          26.42,
          6.36,
          2.97,
          28.28,
          17.79,
          19.52,
          26.4,
          4.56,
          26.77,
          5.39,
          11.48,
          17.27,
          8.61,
          4.14,
          14.98,
          18.76,
          13.28,
          4.03,
          11.98,
          6.57,
          29.53,
          23.24,
          9.5,
          5.91,
          7.22,
          3.56,
          6.15,
          6.72,
          6.62,
          16.21,
          7.12,
          15.03,
          6.87,
          4.85,
          4.38,
          21.52,
          6.56,
          27.71,
          9.16,
          25.68,
          10.3,
          4.98,
          7.39,
          16.65,
          17.92,
          10.53,
          13.35,
          8.88,
          4.86,
          3.54,
          5.52,
          5.21,
          4.74,
          8.94,
          14.69,
          29.55,
          5.29,
          5.5,
          5.1,
          31.99,
          28.32,
          5.03,
          9.59,
          6.92,
          5.98,
          5.7,
          10.97,
          12.73,
          6.36,
          12.04,
          21.45,
          7.54,
          22.11,
          6.65,
          7.74,
          3.7,
          16.59,
          14.44,
          10.36,
          29.05,
          11.65,
          4.08,
          3.59,
          15.39,
          5.04,
          5.81,
          8.93,
          9.93,
          7.9,
          11.12,
          34.02,
          25.41,
          14.15,
          10.29,
          5.08,
          10.19,
          8.1,
          8.44,
          13.83,
          19.88,
          13.33,
          14.59,
          9.5,
          24.39,
          4.5,
          8.05,
          15.84,
          7.6,
          6.29,
          16.51,
          9.08,
          7.56,
          20.45,
          3.32,
          6.59,
          10.11,
          18.46,
          26.82,
          6.78,
          29.68,
          3.92,
          22.74,
          7.83,
          11.69,
          17.21,
          10.26,
          7.14,
          14.37,
          18.71,
          10.4,
          30.81,
          14.1,
          9.25,
          10.13,
          6.19,
          24.91,
          12.03,
          14.81,
          5.19,
          6.48,
          23.6,
          29.93,
          11.34,
          7.18,
          18.13,
          14.36,
          9.55,
          12.12,
          10.27,
          11.64,
          15.1,
          24.1,
          14.64,
          30.63,
          8.81,
          18.33,
          14.1,
          10.24,
          17.12,
          10.45,
          7.67,
          15.7,
          16.9,
          3.95,
          13.44,
          19.92,
          19.78,
          14.8,
          6.9,
          11.32,
          11.97,
          17.6,
          23.29,
          29.29,
          11.5,
          7.79,
          5.12,
          15.94,
          5.28,
          11.74,
          21.32,
          19.77,
          14.79,
          6.86,
          7.88,
          11.38,
          17.44,
          24.56,
          19.69,
          8.67,
          9.43,
          10.16,
          9.97,
          27.38,
          1.73,
          12.67,
          12.4,
          20.85,
          7.43,
          13.45,
          3.53,
          11.1,
          7.53,
          18.35,
          14.43,
          10.59,
          16.03,
          10.11,
          2.47,
          8.16,
          6.68,
          12.86,
          10.21,
          6.73,
          4.7,
          14.67
         ],
         "xaxis": "x",
         "y": [
          21.9,
          21,
          22.6,
          21.8,
          12.5,
          15.6,
          14.9,
          32.9,
          38.7,
          20.3,
          24.4,
          18.4,
          22.5,
          18.3,
          28.7,
          20.1,
          16.7,
          29.1,
          14.3,
          20.5,
          31.5,
          7.2,
          29.8,
          22.6,
          20.5,
          14.5,
          10.2,
          26.4,
          28.5,
          28.1,
          23.9,
          18.2,
          19.5,
          35.4,
          24.5,
          13.5,
          27.1,
          8.8,
          29,
          22,
          19.7,
          32.2,
          26.6,
          13,
          23.8,
          22.9,
          21.7,
          23,
          22,
          17.6,
          19.5,
          17.8,
          17.7,
          37.9,
          13.1,
          16.6,
          12.6,
          18.7,
          41.3,
          21.9,
          31.7,
          13.5,
          30.5,
          50,
          12.1,
          50,
          19.5,
          18.8,
          33.2,
          19.6,
          24.7,
          19.3,
          23,
          14.4,
          18.7,
          20.4,
          21.7,
          22.8,
          20.9,
          29.6,
          24.5,
          34.9,
          19.9,
          21.7,
          13.8,
          24.2,
          14.6,
          20.4,
          35.4,
          6.3,
          21.2,
          21.4,
          20.7,
          18.9,
          13.3,
          21.1,
          32,
          17.1,
          19.8,
          16.2,
          22.5,
          13.8,
          18.6,
          27.5,
          50,
          28.6,
          26.6,
          16.7,
          22.6,
          19.1,
          15.4,
          22.2,
          21.2,
          50,
          25,
          20,
          10.8,
          23.5,
          23.6,
          18.9,
          19.3,
          34.9,
          26.6,
          12.7,
          19.1,
          20.7,
          19.2,
          9.5,
          20.6,
          25,
          19.8,
          13.8,
          45.4,
          19.6,
          27.1,
          14.8,
          36.2,
          22.3,
          33.1,
          18.7,
          50,
          23.9,
          31,
          21.2,
          8.7,
          43.5,
          9.6,
          14.4,
          25,
          31.2,
          23.8,
          15.1,
          13.4,
          48.3,
          33,
          15.2,
          22,
          44,
          12.7,
          22.9,
          19,
          22.2,
          23.6,
          7,
          50,
          22.4,
          11.7,
          19.9,
          26.7,
          17,
          19.4,
          23.3,
          24.8,
          15.6,
          15,
          33.4,
          20.3,
          21.6,
          19.9,
          10.9,
          18.5,
          15.7,
          17.4,
          43.8,
          14,
          16.4,
          15.2,
          24,
          15.6,
          23.7,
          50,
          10.5,
          14.9,
          17.1,
          17.2,
          29.8,
          5.6,
          34.9,
          22.7,
          21.7,
          30.3,
          44.8,
          19.1,
          23.2,
          19.6,
          34.7,
          21,
          21.9,
          14.6,
          13.9,
          22,
          48.8,
          23.9,
          37.3,
          23,
          24.8,
          34.6,
          18.8,
          27.5,
          18.4,
          23.1,
          35.1,
          29.1,
          11,
          26.2,
          13.2,
          24.3,
          9.7,
          19.2,
          24,
          23.3,
          15.6,
          21.5,
          17.5,
          20.1,
          50,
          33.1,
          42.8,
          22.8,
          28.7,
          29,
          21.4,
          23.1,
          23.7,
          28,
          27,
          37,
          7.4,
          17.8,
          31.1,
          33.8,
          29.9,
          22.1,
          28.7,
          24.4,
          21,
          23.1,
          21.2,
          15.4,
          23.4,
          10.5,
          28.4,
          23.7,
          50,
          18.4,
          16,
          23.1,
          7.2,
          24.3,
          33.3,
          24.8,
          18,
          37.2,
          25.3,
          28.4,
          27.5,
          21.6,
          23,
          8.4,
          17.3,
          20,
          20.2,
          24.6,
          20.8,
          36.5,
          22.2,
          19.6,
          14.5,
          23.1,
          17.1,
          25,
          8.3,
          30.1,
          18.2,
          20.3,
          30.1,
          24.6,
          13.9,
          20.6,
          39.8,
          15,
          50,
          25.2,
          23.2,
          17.8,
          13.4,
          24.1,
          8.1,
          46.7,
          8.4,
          19.4,
          20.2,
          10.4,
          18.2,
          23.2,
          22,
          14.9,
          21.7,
          7.2,
          20.8,
          20.9,
          24.7,
          33.2,
          12,
          16.1,
          21.4,
          23.7,
          22,
          11.3,
          16.5,
          21.4,
          23.9,
          14.1,
          23.2,
          21.2,
          15.3,
          20.8,
          22.7,
          17.5,
          13.3,
          16.8,
          8.8,
          22.6,
          17.8,
          21.5,
          19.4,
          13.1,
          22.8,
          26.5,
          14.2,
          17.4,
          31.6,
          19.3,
          8.5,
          27.5,
          18.9,
          30.1,
          22.3,
          20,
          23.1,
          13.4,
          11.8,
          16.2,
          36,
          50,
          19.8,
          25,
          18.5,
          13.3,
          8.3,
          30.7,
          23.3,
          11.9,
          22,
          13.4,
          12.3,
          14.1,
          26.4,
          20.5,
          22.8,
          19.3,
          8.5,
          50,
          17.2,
          20.1,
          11.5,
          24.1,
          19.7,
          32.4,
          23.8,
          28.2,
          13.1,
          17.4,
          20.6,
          22.4,
          15,
          41.7,
          22.9,
          32,
          22.5,
          19.3,
          22.2,
          27.9,
          17.5
         ],
         "yaxis": "y"
        },
        {
         "hovertemplate": "<b>OLS trendline</b><br>y = -0.925381 * x + 34.1364<br>R<sup>2</sup>=0.534730<br><br>x=%{x}<br>y=%{y} <b>(trend)</b><extra></extra>",
         "legendgroup": "",
         "line": {
          "color": "darkred"
         },
         "marker": {
          "color": "#636efa",
          "symbol": "circle"
         },
         "mode": "lines",
         "name": "",
         "showlegend": false,
         "type": "scatter",
         "x": [
          1.73,
          1.98,
          2.47,
          2.88,
          2.94,
          2.96,
          2.97,
          2.98,
          3.11,
          3.16,
          3.26,
          3.32,
          3.33,
          3.53,
          3.54,
          3.56,
          3.57,
          3.59,
          3.7,
          3.73,
          3.76,
          3.92,
          3.95,
          3.95,
          4.03,
          4.08,
          4.14,
          4.16,
          4.21,
          4.38,
          4.45,
          4.45,
          4.5,
          4.54,
          4.56,
          4.56,
          4.59,
          4.59,
          4.61,
          4.67,
          4.69,
          4.7,
          4.73,
          4.74,
          4.81,
          4.82,
          4.84,
          4.85,
          4.86,
          4.97,
          4.98,
          5.03,
          5.04,
          5.08,
          5.1,
          5.12,
          5.19,
          5.21,
          5.25,
          5.28,
          5.29,
          5.29,
          5.33,
          5.39,
          5.5,
          5.5,
          5.52,
          5.68,
          5.7,
          5.77,
          5.81,
          5.89,
          5.91,
          5.98,
          5.98,
          5.99,
          6.05,
          6.15,
          6.19,
          6.21,
          6.27,
          6.29,
          6.36,
          6.36,
          6.48,
          6.53,
          6.56,
          6.57,
          6.59,
          6.62,
          6.65,
          6.68,
          6.72,
          6.72,
          6.73,
          6.75,
          6.78,
          6.86,
          6.87,
          6.9,
          6.92,
          7.01,
          7.12,
          7.14,
          7.18,
          7.19,
          7.2,
          7.22,
          7.37,
          7.39,
          7.39,
          7.43,
          7.51,
          7.53,
          7.54,
          7.56,
          7.6,
          7.6,
          7.67,
          7.7,
          7.74,
          7.79,
          7.79,
          7.79,
          7.83,
          7.85,
          7.88,
          7.9,
          8.01,
          8.05,
          8.05,
          8.05,
          8.1,
          8.1,
          8.16,
          8.2,
          8.23,
          8.44,
          8.47,
          8.51,
          8.58,
          8.61,
          8.67,
          8.77,
          8.79,
          8.81,
          8.88,
          8.93,
          8.94,
          9.04,
          9.08,
          9.09,
          9.14,
          9.16,
          9.22,
          9.25,
          9.28,
          9.29,
          9.38,
          9.42,
          9.43,
          9.5,
          9.5,
          9.51,
          9.53,
          9.55,
          9.59,
          9.62,
          9.64,
          9.67,
          9.68,
          9.69,
          9.71,
          9.74,
          9.8,
          9.88,
          9.93,
          9.97,
          9.97,
          10.11,
          10.11,
          10.13,
          10.15,
          10.16,
          10.19,
          10.21,
          10.24,
          10.26,
          10.27,
          10.29,
          10.3,
          10.36,
          10.4,
          10.45,
          10.45,
          10.5,
          10.53,
          10.58,
          10.59,
          10.74,
          10.87,
          10.88,
          10.97,
          11.1,
          11.12,
          11.22,
          11.25,
          11.28,
          11.32,
          11.34,
          11.38,
          11.41,
          11.48,
          11.5,
          11.64,
          11.65,
          11.66,
          11.69,
          11.74,
          11.97,
          11.98,
          12.01,
          12.03,
          12.03,
          12.04,
          12.12,
          12.27,
          12.34,
          12.4,
          12.43,
          12.5,
          12.6,
          12.67,
          12.67,
          12.73,
          12.8,
          12.86,
          12.87,
          12.92,
          12.93,
          13.09,
          13.11,
          13.15,
          13.15,
          13.27,
          13.27,
          13.28,
          13.33,
          13.35,
          13.44,
          13.44,
          13.45,
          13.59,
          13.61,
          13.65,
          13.83,
          13.98,
          13.99,
          14,
          14.1,
          14.1,
          14.13,
          14.15,
          14.27,
          14.36,
          14.37,
          14.43,
          14.44,
          14.52,
          14.59,
          14.64,
          14.65,
          14.66,
          14.67,
          14.69,
          14.79,
          14.8,
          14.81,
          14.98,
          15.02,
          15.02,
          15.03,
          15.1,
          15.12,
          15.37,
          15.39,
          15.7,
          15.71,
          15.76,
          15.84,
          15.94,
          16.03,
          16.14,
          16.2,
          16.21,
          16.22,
          16.23,
          16.29,
          16.35,
          16.42,
          16.44,
          16.51,
          16.59,
          16.65,
          16.74,
          16.9,
          16.94,
          17.09,
          17.11,
          17.12,
          17.16,
          17.19,
          17.21,
          17.27,
          17.28,
          17.31,
          17.44,
          17.58,
          17.6,
          17.64,
          17.79,
          17.92,
          17.93,
          18.03,
          18.05,
          18.06,
          18.06,
          18.13,
          18.33,
          18.35,
          18.46,
          18.66,
          18.68,
          18.71,
          18.72,
          18.76,
          18.8,
          18.85,
          19.15,
          19.31,
          19.37,
          19.52,
          19.69,
          19.77,
          19.78,
          19.88,
          19.92,
          20.31,
          20.32,
          20.34,
          20.45,
          20.62,
          20.85,
          21.14,
          21.24,
          21.32,
          21.32,
          21.45,
          21.52,
          21.78,
          22.11,
          22.6,
          22.74,
          23.24,
          23.27,
          23.29,
          23.6,
          23.79,
          23.97,
          23.98,
          24.08,
          24.1,
          24.16,
          24.39,
          24.56,
          24.91,
          25.41,
          25.68,
          26.4,
          26.42,
          26.45,
          26.77,
          26.82,
          27.26,
          27.38,
          27.71,
          27.8,
          28.28,
          28.32,
          29.05,
          29.29,
          29.53,
          29.55,
          29.68,
          29.93,
          29.97,
          30.63,
          30.81,
          30.81,
          31.99,
          34.02,
          34.41,
          34.77,
          37.97
         ],
         "xaxis": "x",
         "y": [
          32.5354944096269,
          32.30414913943701,
          31.850712409864816,
          31.471306166753394,
          31.41578330190782,
          31.39727568029263,
          31.388021869485033,
          31.378768058677437,
          31.25846851817869,
          31.212199464140713,
          31.119661356064757,
          31.064138491219182,
          31.054884680411586,
          30.869808464259673,
          30.860554653452077,
          30.842047031836888,
          30.83279322102929,
          30.8142855994141,
          30.712493680530546,
          30.68473224810776,
          30.65697081568497,
          30.508909842763444,
          30.481148410340655,
          30.481148410340655,
          30.407117923879888,
          30.36084886984191,
          30.30532600499634,
          30.286818383381146,
          30.240549329343168,
          30.08323454561404,
          30.01845786996087,
          30.01845786996087,
          29.97218881592289,
          29.93517357269251,
          29.91666595107732,
          29.91666595107732,
          29.88890451865453,
          29.88890451865453,
          29.87039689703934,
          29.814874032193764,
          29.796366410578575,
          29.78711259977098,
          29.759351167348193,
          29.750097356540596,
          29.685320680887425,
          29.67606687007983,
          29.65755924846464,
          29.648305437657044,
          29.639051626849447,
          29.537259707965895,
          29.528005897158298,
          29.48173684312032,
          29.472483032312724,
          29.43546778908234,
          29.416960167467153,
          29.39845254585196,
          29.33367587019879,
          29.3151682485836,
          29.278153005353218,
          29.25039157293043,
          29.241137762122833,
          29.241137762122833,
          29.20412251889245,
          29.148599654046876,
          29.046807735163323,
          29.046807735163323,
          29.028300113548134,
          28.8802391406266,
          28.86173151901141,
          28.79695484335824,
          28.759939600127858,
          28.685909113667094,
          28.6674014920519,
          28.60262481639873,
          28.60262481639873,
          28.593371005591134,
          28.53784814074556,
          28.445310032669603,
          28.40829478943922,
          28.389787167824032,
          28.334264302978458,
          28.315756681363265,
          28.250980005710094,
          28.250980005710094,
          28.13993427601895,
          28.093665221980967,
          28.06590378955818,
          28.056649978750585,
          28.038142357135392,
          28.010380924712607,
          27.98261949228982,
          27.954858059867032,
          27.91784281663665,
          27.91784281663665,
          27.908589005829054,
          27.890081384213865,
          27.862319951791076,
          27.78828946533031,
          27.779035654522716,
          27.751274222099926,
          27.732766600484737,
          27.649482303216374,
          27.547690384332824,
          27.52918276271763,
          27.49216751948725,
          27.482913708679654,
          27.473659897872057,
          27.455152276256868,
          27.31634511414293,
          27.29783749252774,
          27.29783749252774,
          27.260822249297355,
          27.18679176283659,
          27.1682841412214,
          27.159030330413803,
          27.140522708798613,
          27.103507465568228,
          27.103507465568228,
          27.03873078991506,
          27.01096935749227,
          26.97395411426189,
          26.92768506022391,
          26.92768506022391,
          26.92768506022391,
          26.89066981699353,
          26.872162195378337,
          26.84440076295555,
          26.82589314134036,
          26.724101222456806,
          26.687085979226424,
          26.687085979226424,
          26.687085979226424,
          26.640816925188446,
          26.640816925188446,
          26.58529406034287,
          26.54827881711249,
          26.5205173846897,
          26.32618735773019,
          26.298425925307406,
          26.26141068207702,
          26.196634006423853,
          26.168872574001064,
          26.113349709155493,
          26.020811601079537,
          26.002303979464344,
          25.98379635784915,
          25.91901968219598,
          25.872750628158002,
          25.86349681735041,
          25.770958709274453,
          25.733943466044067,
          25.724689655236475,
          25.678420601198493,
          25.659912979583304,
          25.604390114737726,
          25.57662868231494,
          25.548867249892155,
          25.53961343908456,
          25.456329141816198,
          25.419313898585813,
          25.41006008777822,
          25.34528341212505,
          25.34528341212505,
          25.336029601317456,
          25.317521979702263,
          25.29901435808707,
          25.26199911485669,
          25.2342376824339,
          25.215730060818707,
          25.18796862839592,
          25.17871481758833,
          25.169461006780733,
          25.15095338516554,
          25.12319195274275,
          25.06766908789718,
          24.993638601436412,
          24.947369547398438,
          24.910354304168052,
          24.910354304168052,
          24.78080095286171,
          24.78080095286171,
          24.762293331246518,
          24.74378570963133,
          24.734531898823732,
          24.706770466400947,
          24.688262844785754,
          24.66050141236297,
          24.641993790747776,
          24.632739979940183,
          24.61423235832499,
          24.604978547517394,
          24.54945568267182,
          24.512440439441438,
          24.46617138540346,
          24.46617138540346,
          24.41990233136548,
          24.392140898942692,
          24.345871844904714,
          24.33661803409712,
          24.197810871983187,
          24.07751133148444,
          24.068257520676845,
          23.98497322340848,
          23.86467368290974,
          23.846166061294547,
          23.75362795321859,
          23.725866520795805,
          23.69810508837302,
          23.661089845142634,
          23.64258222352744,
          23.60556698029706,
          23.577805547874274,
          23.513028872221103,
          23.494521250605914,
          23.36496789929957,
          23.35571408849198,
          23.34646027768438,
          23.318698845261594,
          23.272429791223615,
          23.059592142648917,
          23.050338331841317,
          23.02257689941853,
          23.00406927780334,
          23.00406927780334,
          22.994815466995746,
          22.920784980534982,
          22.781977818421044,
          22.717201142767877,
          22.6616782779223,
          22.633916845499513,
          22.569140169846342,
          22.476602061770386,
          22.411825386117215,
          22.411825386117215,
          22.356302521271644,
          22.291525845618473,
          22.236002980772902,
          22.226749169965302,
          22.180480115927324,
          22.17122630511973,
          22.023165332198197,
          22.004657710583007,
          21.967642467352626,
          21.967642467352626,
          21.856596737661476,
          21.856596737661476,
          21.84734292685388,
          21.801073872815902,
          21.782566251200713,
          21.69928195393235,
          21.69928195393235,
          21.690028143124756,
          21.560474791818415,
          21.541967170203222,
          21.50495192697284,
          21.338383332436116,
          21.19957617032218,
          21.19032235951459,
          21.18106854870699,
          21.088530440631033,
          21.088530440631033,
          21.060769008208247,
          21.042261386593054,
          20.931215656901905,
          20.84793135963355,
          20.83867754882595,
          20.783154683980378,
          20.77390087317278,
          20.699870386712014,
          20.635093711058843,
          20.588824657020865,
          20.579570846213272,
          20.570317035405676,
          20.56106322459808,
          20.542555602982887,
          20.45001749490693,
          20.440763684099338,
          20.431509873291738,
          20.274195089562614,
          20.237179846332232,
          20.237179846332232,
          20.227926035524636,
          20.163149359871465,
          20.144641738256276,
          19.913296468066385,
          19.894788846451192,
          19.607920711415723,
          19.59866690060813,
          19.552397846570152,
          19.478367360109385,
          19.385829252033428,
          19.302544954765068,
          19.20075303588151,
          19.14523017103594,
          19.13597636022834,
          19.126722549420748,
          19.11746873861315,
          19.061945873767577,
          19.006423008922003,
          18.941646333268835,
          18.923138711653642,
          18.85836203600047,
          18.784331549539708,
          18.728808684694137,
          18.645524387425773,
          18.497463414504242,
          18.46044817127386,
          18.321641009159926,
          18.303133387544733,
          18.293879576737133,
          18.256864333506755,
          18.229102901083966,
          18.210595279468777,
          18.155072414623202,
          18.145818603815606,
          18.11805717139282,
          17.997757630894075,
          17.868204279587736,
          17.849696657972544,
          17.812681414742162,
          17.673874252628227,
          17.553574712129482,
          17.544320901321885,
          17.45178279324593,
          17.433275171630736,
          17.424021360823144,
          17.424021360823144,
          17.359244685169973,
          17.17416846901806,
          17.155660847402867,
          17.053868928519314,
          16.8687927123674,
          16.85028509075221,
          16.822523658329423,
          16.813269847521827,
          16.77625460429144,
          16.73923936106106,
          16.69297030702308,
          16.415355982795212,
          16.26729500987368,
          16.211772145028107,
          16.072964982914172,
          15.915650199185045,
          15.841619712724281,
          15.832365901916685,
          15.739827793840728,
          15.702812550610343,
          15.341913929114114,
          15.332660118306517,
          15.314152496691325,
          15.212360577807775,
          15.055045794078644,
          14.842208145503946,
          14.57384763208367,
          14.481309524007717,
          14.40727903754695,
          14.40727903754695,
          14.286979497048204,
          14.222202821395037,
          13.981603740397546,
          13.676227983746891,
          13.222791254174698,
          13.093237902868363,
          12.630547362488578,
          12.602785930065789,
          12.5842783084506,
          12.29741017341513,
          12.121587768070814,
          11.955019173534094,
          11.945765362726497,
          11.853227254650541,
          11.834719633035348,
          11.779196768189774,
          11.566359119615072,
          11.409044335885948,
          11.085160957620097,
          10.622470417240311,
          10.372617525435231,
          9.70634314728834,
          9.687835525673147,
          9.660074093250362,
          9.3639521474073,
          9.317683093369322,
          8.91051541783511,
          8.799469688143965,
          8.494093931493303,
          8.410809634224943,
          7.96662671546035,
          7.929611472229968,
          7.2540832832754845,
          7.031991823893186,
          6.809900364510888,
          6.791392742895699,
          6.671093202396957,
          6.439747932207062,
          6.4027326889766805,
          5.791981175675367,
          5.625412581138644,
          5.625412581138644,
          4.533462905842352,
          2.6549393119004243,
          2.2940406904041986,
          1.9609035013307476,
          -1.0003159570998648
         ],
         "yaxis": "y"
        }
       ],
       "layout": {
        "legend": {
         "tracegroupgap": 0
        },
        "margin": {
         "t": 60
        },
        "template": {
         "data": {
          "bar": [
           {
            "error_x": {
             "color": "#2a3f5f"
            },
            "error_y": {
             "color": "#2a3f5f"
            },
            "marker": {
             "line": {
              "color": "#E5ECF6",
              "width": 0.5
             },
             "pattern": {
              "fillmode": "overlay",
              "size": 10,
              "solidity": 0.2
             }
            },
            "type": "bar"
           }
          ],
          "barpolar": [
           {
            "marker": {
             "line": {
              "color": "#E5ECF6",
              "width": 0.5
             },
             "pattern": {
              "fillmode": "overlay",
              "size": 10,
              "solidity": 0.2
             }
            },
            "type": "barpolar"
           }
          ],
          "carpet": [
           {
            "aaxis": {
             "endlinecolor": "#2a3f5f",
             "gridcolor": "white",
             "linecolor": "white",
             "minorgridcolor": "white",
             "startlinecolor": "#2a3f5f"
            },
            "baxis": {
             "endlinecolor": "#2a3f5f",
             "gridcolor": "white",
             "linecolor": "white",
             "minorgridcolor": "white",
             "startlinecolor": "#2a3f5f"
            },
            "type": "carpet"
           }
          ],
          "choropleth": [
           {
            "colorbar": {
             "outlinewidth": 0,
             "ticks": ""
            },
            "type": "choropleth"
           }
          ],
          "contour": [
           {
            "colorbar": {
             "outlinewidth": 0,
             "ticks": ""
            },
            "colorscale": [
             [
              0,
              "#0d0887"
             ],
             [
              0.1111111111111111,
              "#46039f"
             ],
             [
              0.2222222222222222,
              "#7201a8"
             ],
             [
              0.3333333333333333,
              "#9c179e"
             ],
             [
              0.4444444444444444,
              "#bd3786"
             ],
             [
              0.5555555555555556,
              "#d8576b"
             ],
             [
              0.6666666666666666,
              "#ed7953"
             ],
             [
              0.7777777777777778,
              "#fb9f3a"
             ],
             [
              0.8888888888888888,
              "#fdca26"
             ],
             [
              1,
              "#f0f921"
             ]
            ],
            "type": "contour"
           }
          ],
          "contourcarpet": [
           {
            "colorbar": {
             "outlinewidth": 0,
             "ticks": ""
            },
            "type": "contourcarpet"
           }
          ],
          "heatmap": [
           {
            "colorbar": {
             "outlinewidth": 0,
             "ticks": ""
            },
            "colorscale": [
             [
              0,
              "#0d0887"
             ],
             [
              0.1111111111111111,
              "#46039f"
             ],
             [
              0.2222222222222222,
              "#7201a8"
             ],
             [
              0.3333333333333333,
              "#9c179e"
             ],
             [
              0.4444444444444444,
              "#bd3786"
             ],
             [
              0.5555555555555556,
              "#d8576b"
             ],
             [
              0.6666666666666666,
              "#ed7953"
             ],
             [
              0.7777777777777778,
              "#fb9f3a"
             ],
             [
              0.8888888888888888,
              "#fdca26"
             ],
             [
              1,
              "#f0f921"
             ]
            ],
            "type": "heatmap"
           }
          ],
          "heatmapgl": [
           {
            "colorbar": {
             "outlinewidth": 0,
             "ticks": ""
            },
            "colorscale": [
             [
              0,
              "#0d0887"
             ],
             [
              0.1111111111111111,
              "#46039f"
             ],
             [
              0.2222222222222222,
              "#7201a8"
             ],
             [
              0.3333333333333333,
              "#9c179e"
             ],
             [
              0.4444444444444444,
              "#bd3786"
             ],
             [
              0.5555555555555556,
              "#d8576b"
             ],
             [
              0.6666666666666666,
              "#ed7953"
             ],
             [
              0.7777777777777778,
              "#fb9f3a"
             ],
             [
              0.8888888888888888,
              "#fdca26"
             ],
             [
              1,
              "#f0f921"
             ]
            ],
            "type": "heatmapgl"
           }
          ],
          "histogram": [
           {
            "marker": {
             "pattern": {
              "fillmode": "overlay",
              "size": 10,
              "solidity": 0.2
             }
            },
            "type": "histogram"
           }
          ],
          "histogram2d": [
           {
            "colorbar": {
             "outlinewidth": 0,
             "ticks": ""
            },
            "colorscale": [
             [
              0,
              "#0d0887"
             ],
             [
              0.1111111111111111,
              "#46039f"
             ],
             [
              0.2222222222222222,
              "#7201a8"
             ],
             [
              0.3333333333333333,
              "#9c179e"
             ],
             [
              0.4444444444444444,
              "#bd3786"
             ],
             [
              0.5555555555555556,
              "#d8576b"
             ],
             [
              0.6666666666666666,
              "#ed7953"
             ],
             [
              0.7777777777777778,
              "#fb9f3a"
             ],
             [
              0.8888888888888888,
              "#fdca26"
             ],
             [
              1,
              "#f0f921"
             ]
            ],
            "type": "histogram2d"
           }
          ],
          "histogram2dcontour": [
           {
            "colorbar": {
             "outlinewidth": 0,
             "ticks": ""
            },
            "colorscale": [
             [
              0,
              "#0d0887"
             ],
             [
              0.1111111111111111,
              "#46039f"
             ],
             [
              0.2222222222222222,
              "#7201a8"
             ],
             [
              0.3333333333333333,
              "#9c179e"
             ],
             [
              0.4444444444444444,
              "#bd3786"
             ],
             [
              0.5555555555555556,
              "#d8576b"
             ],
             [
              0.6666666666666666,
              "#ed7953"
             ],
             [
              0.7777777777777778,
              "#fb9f3a"
             ],
             [
              0.8888888888888888,
              "#fdca26"
             ],
             [
              1,
              "#f0f921"
             ]
            ],
            "type": "histogram2dcontour"
           }
          ],
          "mesh3d": [
           {
            "colorbar": {
             "outlinewidth": 0,
             "ticks": ""
            },
            "type": "mesh3d"
           }
          ],
          "parcoords": [
           {
            "line": {
             "colorbar": {
              "outlinewidth": 0,
              "ticks": ""
             }
            },
            "type": "parcoords"
           }
          ],
          "pie": [
           {
            "automargin": true,
            "type": "pie"
           }
          ],
          "scatter": [
           {
            "marker": {
             "colorbar": {
              "outlinewidth": 0,
              "ticks": ""
             }
            },
            "type": "scatter"
           }
          ],
          "scatter3d": [
           {
            "line": {
             "colorbar": {
              "outlinewidth": 0,
              "ticks": ""
             }
            },
            "marker": {
             "colorbar": {
              "outlinewidth": 0,
              "ticks": ""
             }
            },
            "type": "scatter3d"
           }
          ],
          "scattercarpet": [
           {
            "marker": {
             "colorbar": {
              "outlinewidth": 0,
              "ticks": ""
             }
            },
            "type": "scattercarpet"
           }
          ],
          "scattergeo": [
           {
            "marker": {
             "colorbar": {
              "outlinewidth": 0,
              "ticks": ""
             }
            },
            "type": "scattergeo"
           }
          ],
          "scattergl": [
           {
            "marker": {
             "colorbar": {
              "outlinewidth": 0,
              "ticks": ""
             }
            },
            "type": "scattergl"
           }
          ],
          "scattermapbox": [
           {
            "marker": {
             "colorbar": {
              "outlinewidth": 0,
              "ticks": ""
             }
            },
            "type": "scattermapbox"
           }
          ],
          "scatterpolar": [
           {
            "marker": {
             "colorbar": {
              "outlinewidth": 0,
              "ticks": ""
             }
            },
            "type": "scatterpolar"
           }
          ],
          "scatterpolargl": [
           {
            "marker": {
             "colorbar": {
              "outlinewidth": 0,
              "ticks": ""
             }
            },
            "type": "scatterpolargl"
           }
          ],
          "scatterternary": [
           {
            "marker": {
             "colorbar": {
              "outlinewidth": 0,
              "ticks": ""
             }
            },
            "type": "scatterternary"
           }
          ],
          "surface": [
           {
            "colorbar": {
             "outlinewidth": 0,
             "ticks": ""
            },
            "colorscale": [
             [
              0,
              "#0d0887"
             ],
             [
              0.1111111111111111,
              "#46039f"
             ],
             [
              0.2222222222222222,
              "#7201a8"
             ],
             [
              0.3333333333333333,
              "#9c179e"
             ],
             [
              0.4444444444444444,
              "#bd3786"
             ],
             [
              0.5555555555555556,
              "#d8576b"
             ],
             [
              0.6666666666666666,
              "#ed7953"
             ],
             [
              0.7777777777777778,
              "#fb9f3a"
             ],
             [
              0.8888888888888888,
              "#fdca26"
             ],
             [
              1,
              "#f0f921"
             ]
            ],
            "type": "surface"
           }
          ],
          "table": [
           {
            "cells": {
             "fill": {
              "color": "#EBF0F8"
             },
             "line": {
              "color": "white"
             }
            },
            "header": {
             "fill": {
              "color": "#C8D4E3"
             },
             "line": {
              "color": "white"
             }
            },
            "type": "table"
           }
          ]
         },
         "layout": {
          "annotationdefaults": {
           "arrowcolor": "#2a3f5f",
           "arrowhead": 0,
           "arrowwidth": 1
          },
          "autotypenumbers": "strict",
          "coloraxis": {
           "colorbar": {
            "outlinewidth": 0,
            "ticks": ""
           }
          },
          "colorscale": {
           "diverging": [
            [
             0,
             "#8e0152"
            ],
            [
             0.1,
             "#c51b7d"
            ],
            [
             0.2,
             "#de77ae"
            ],
            [
             0.3,
             "#f1b6da"
            ],
            [
             0.4,
             "#fde0ef"
            ],
            [
             0.5,
             "#f7f7f7"
            ],
            [
             0.6,
             "#e6f5d0"
            ],
            [
             0.7,
             "#b8e186"
            ],
            [
             0.8,
             "#7fbc41"
            ],
            [
             0.9,
             "#4d9221"
            ],
            [
             1,
             "#276419"
            ]
           ],
           "sequential": [
            [
             0,
             "#0d0887"
            ],
            [
             0.1111111111111111,
             "#46039f"
            ],
            [
             0.2222222222222222,
             "#7201a8"
            ],
            [
             0.3333333333333333,
             "#9c179e"
            ],
            [
             0.4444444444444444,
             "#bd3786"
            ],
            [
             0.5555555555555556,
             "#d8576b"
            ],
            [
             0.6666666666666666,
             "#ed7953"
            ],
            [
             0.7777777777777778,
             "#fb9f3a"
            ],
            [
             0.8888888888888888,
             "#fdca26"
            ],
            [
             1,
             "#f0f921"
            ]
           ],
           "sequentialminus": [
            [
             0,
             "#0d0887"
            ],
            [
             0.1111111111111111,
             "#46039f"
            ],
            [
             0.2222222222222222,
             "#7201a8"
            ],
            [
             0.3333333333333333,
             "#9c179e"
            ],
            [
             0.4444444444444444,
             "#bd3786"
            ],
            [
             0.5555555555555556,
             "#d8576b"
            ],
            [
             0.6666666666666666,
             "#ed7953"
            ],
            [
             0.7777777777777778,
             "#fb9f3a"
            ],
            [
             0.8888888888888888,
             "#fdca26"
            ],
            [
             1,
             "#f0f921"
            ]
           ]
          },
          "colorway": [
           "#636efa",
           "#EF553B",
           "#00cc96",
           "#ab63fa",
           "#FFA15A",
           "#19d3f3",
           "#FF6692",
           "#B6E880",
           "#FF97FF",
           "#FECB52"
          ],
          "font": {
           "color": "#2a3f5f"
          },
          "geo": {
           "bgcolor": "white",
           "lakecolor": "white",
           "landcolor": "#E5ECF6",
           "showlakes": true,
           "showland": true,
           "subunitcolor": "white"
          },
          "hoverlabel": {
           "align": "left"
          },
          "hovermode": "closest",
          "mapbox": {
           "style": "light"
          },
          "paper_bgcolor": "white",
          "plot_bgcolor": "#E5ECF6",
          "polar": {
           "angularaxis": {
            "gridcolor": "white",
            "linecolor": "white",
            "ticks": ""
           },
           "bgcolor": "#E5ECF6",
           "radialaxis": {
            "gridcolor": "white",
            "linecolor": "white",
            "ticks": ""
           }
          },
          "scene": {
           "xaxis": {
            "backgroundcolor": "#E5ECF6",
            "gridcolor": "white",
            "gridwidth": 2,
            "linecolor": "white",
            "showbackground": true,
            "ticks": "",
            "zerolinecolor": "white"
           },
           "yaxis": {
            "backgroundcolor": "#E5ECF6",
            "gridcolor": "white",
            "gridwidth": 2,
            "linecolor": "white",
            "showbackground": true,
            "ticks": "",
            "zerolinecolor": "white"
           },
           "zaxis": {
            "backgroundcolor": "#E5ECF6",
            "gridcolor": "white",
            "gridwidth": 2,
            "linecolor": "white",
            "showbackground": true,
            "ticks": "",
            "zerolinecolor": "white"
           }
          },
          "shapedefaults": {
           "line": {
            "color": "#2a3f5f"
           }
          },
          "ternary": {
           "aaxis": {
            "gridcolor": "white",
            "linecolor": "white",
            "ticks": ""
           },
           "baxis": {
            "gridcolor": "white",
            "linecolor": "white",
            "ticks": ""
           },
           "bgcolor": "#E5ECF6",
           "caxis": {
            "gridcolor": "white",
            "linecolor": "white",
            "ticks": ""
           }
          },
          "title": {
           "x": 0.05
          },
          "xaxis": {
           "automargin": true,
           "gridcolor": "white",
           "linecolor": "white",
           "ticks": "",
           "title": {
            "standoff": 15
           },
           "zerolinecolor": "white",
           "zerolinewidth": 2
          },
          "yaxis": {
           "automargin": true,
           "gridcolor": "white",
           "linecolor": "white",
           "ticks": "",
           "title": {
            "standoff": 15
           },
           "zerolinecolor": "white",
           "zerolinewidth": 2
          }
         }
        },
        "xaxis": {
         "anchor": "y",
         "domain": [
          0,
          1
         ],
         "title": {
          "text": "x"
         }
        },
        "yaxis": {
         "anchor": "x",
         "domain": [
          0,
          1
         ],
         "title": {
          "text": "y"
         }
        }
       }
      }
     },
     "metadata": {},
     "output_type": "display_data"
    }
   ],
   "source": [
    "px.scatter(x=X_train['LSTAT'], y=y_train, opacity=0.65, \n",
    "                trendline='ols', trendline_color_override='darkred')"
   ]
  },
  {
   "cell_type": "markdown",
   "metadata": {},
   "source": [
    "Regressionsgerade für LSTAT (% niedrigerer Status der Bevölkerung)"
   ]
  },
  {
   "cell_type": "code",
   "execution_count": 18,
   "metadata": {},
   "outputs": [
    {
     "data": {
      "text/plain": [
       "<AxesSubplot:ylabel='PRICE'>"
      ]
     },
     "execution_count": 18,
     "metadata": {},
     "output_type": "execute_result"
    },
    {
     "data": {
      "image/png": "[encoded data removed]",
      "text/plain": [
       "<Figure size 432x288 with 1 Axes>"
      ]
     },
     "metadata": {
      "needs_background": "light"
     },
     "output_type": "display_data"
    }
   ],
   "source": [
    "sns.residplot(x=y_pred, y=y_train, scatter_kws={\"s\": 80})"
   ]
  },
  {
   "cell_type": "markdown",
   "metadata": {},
   "source": [
    "Residplot zeigt den Fehler zwischen einem vorhergesagten Wert und dem tatsächlichen Wert an. (Je näher an der Gerade auf 0, desto besser)"
   ]
  },
  {
   "cell_type": "markdown",
   "metadata": {},
   "source": [
    "Modellevaluation mit Testdaten"
   ]
  },
  {
   "cell_type": "code",
   "execution_count": 19,
   "metadata": {},
   "outputs": [],
   "source": [
    "y_pred = linreg.predict(X_test)"
   ]
  },
  {
   "cell_type": "code",
   "execution_count": 20,
   "metadata": {},
   "outputs": [
    {
     "name": "stdout",
     "output_type": "stream",
     "text": [
      "R^2: 0.7042949097612246\n",
      "Adjusted R^2: 0.702820071405919\n",
      "MAE: 3.9158469369156133\n",
      "MSE: 29.52448686381724\n",
      "RMSE: 5.43364397654256\n"
     ]
    }
   ],
   "source": [
    "print('R^2:',metrics.r2_score(y_test, y_pred))\n",
    "print('Adjusted R^2:',1 - (1-metrics.r2_score(y_test, y_pred))*(len(y_train)-1)/(len(y_train)-X_train.shape[1]-1))\n",
    "print('MAE:',metrics.mean_absolute_error(y_test, y_pred))\n",
    "print('MSE:',metrics.mean_squared_error(y_test, y_pred))\n",
    "print('RMSE:',np.sqrt(metrics.mean_squared_error(y_test, y_pred)))"
   ]
  },
  {
   "cell_type": "markdown",
   "metadata": {},
   "source": [
    "Erreichte Erfolgsmetrik von mindestens 66% erreicht."
   ]
  },
  {
   "cell_type": "code",
   "execution_count": 21,
   "metadata": {},
   "outputs": [
    {
     "data": {
      "application/vnd.plotly.v1+json": {
       "config": {
        "plotlyServerURL": "https://plot.ly"
       },
       "data": [
        {
         "hovertemplate": "x=%{x}<br>y=%{y}<extra></extra>",
         "legendgroup": "",
         "marker": {
          "color": "#636efa",
          "opacity": 0.65,
          "symbol": "circle"
         },
         "mode": "markers",
         "name": "",
         "orientation": "v",
         "showlegend": false,
         "type": "scatter",
         "x": [
          6.127,
          8.725,
          5.637,
          6.433,
          5.949,
          6.579,
          6.164,
          6.185,
          7.241,
          6.167,
          6.552,
          6.209,
          6.545,
          6.072,
          6.208,
          6.333,
          5.952,
          6.023,
          5.713,
          5.935,
          5.813,
          5.837,
          6.415,
          5.983,
          7.645,
          6.871,
          5.608,
          6.066,
          6.083,
          4.973,
          4.138,
          7.802,
          4.628,
          5.998,
          7.61,
          5.905,
          5.344,
          5.709,
          5.926,
          6.326,
          6.004,
          5.762,
          6.976,
          6.54,
          6.657,
          6.182,
          5.155,
          5.453,
          5.874,
          6.335,
          8.297,
          6.101,
          4.88,
          6.631,
          7.691,
          6.38,
          6.563,
          5.976,
          6.229,
          6.081,
          5.936,
          6.655,
          5.57,
          5.877,
          5.871,
          6.459,
          6.487,
          5.605,
          6.595,
          7.923,
          6.211,
          7.42,
          5.924,
          5.851,
          4.519,
          6.251,
          6.193,
          8.04,
          6.405,
          6.538,
          6.012,
          7.52,
          7.163,
          5.427,
          6.546,
          6.957,
          6.144,
          5.888,
          7.853,
          6.027,
          7.236,
          5.683,
          6.782,
          5.627,
          5.856,
          7.178,
          5.895,
          6.195,
          6.212,
          6.297,
          5.794,
          5.304
         ],
         "xaxis": "x",
         "y": [
          20.4,
          50,
          14.3,
          24.5,
          20.4,
          24.1,
          21.7,
          14.1,
          32.7,
          20.1,
          31.5,
          21.4,
          10.9,
          14.5,
          11.7,
          22.6,
          19,
          19.4,
          20.1,
          23.1,
          16.6,
          10.2,
          25,
          13.6,
          46,
          24.8,
          27.9,
          24.3,
          22.2,
          16.1,
          11.9,
          50,
          17.9,
          23.4,
          42.3,
          20.6,
          20,
          19.4,
          19.1,
          19.6,
          18.9,
          21.8,
          23.9,
          16.5,
          17.2,
          25,
          16.3,
          5,
          20.3,
          18.1,
          50,
          25,
          10.2,
          25.1,
          35.2,
          13.1,
          32.5,
          12.7,
          19.4,
          20,
          20.6,
          15.2,
          13.6,
          23.8,
          20.6,
          11.8,
          24.4,
          18.5,
          30.8,
          50,
          24.7,
          33.4,
          15.6,
          19.5,
          7,
          19.9,
          13.8,
          37.6,
          18.6,
          24.4,
          22.9,
          43.1,
          31.6,
          13.8,
          29.4,
          29.6,
          36.2,
          23.3,
          48.5,
          16.8,
          36.1,
          5,
          7.5,
          12.8,
          21.1,
          36.4,
          18.5,
          21.7,
          17.8,
          16.1,
          18.3,
          10.4
         ],
         "yaxis": "y"
        },
        {
         "hovertemplate": "<b>OLS trendline</b><br>y = 10.2467 * x + -41.7118<br>R<sup>2</sup>=0.627368<br><br>x=%{x}<br>y=%{y} <b>(trend)</b><extra></extra>",
         "legendgroup": "",
         "line": {
          "color": "darkred"
         },
         "marker": {
          "color": "#636efa",
          "symbol": "circle"
         },
         "mode": "lines",
         "name": "",
         "showlegend": false,
         "type": "scatter",
         "x": [
          4.138,
          4.519,
          4.628,
          4.88,
          4.973,
          5.155,
          5.304,
          5.344,
          5.427,
          5.453,
          5.57,
          5.605,
          5.608,
          5.627,
          5.637,
          5.683,
          5.709,
          5.713,
          5.762,
          5.794,
          5.813,
          5.837,
          5.851,
          5.856,
          5.871,
          5.874,
          5.877,
          5.888,
          5.895,
          5.905,
          5.924,
          5.926,
          5.935,
          5.936,
          5.949,
          5.952,
          5.976,
          5.983,
          5.998,
          6.004,
          6.012,
          6.023,
          6.027,
          6.066,
          6.072,
          6.081,
          6.083,
          6.101,
          6.127,
          6.144,
          6.164,
          6.167,
          6.182,
          6.185,
          6.193,
          6.195,
          6.208,
          6.209,
          6.211,
          6.212,
          6.229,
          6.251,
          6.297,
          6.326,
          6.333,
          6.335,
          6.38,
          6.405,
          6.415,
          6.433,
          6.459,
          6.487,
          6.538,
          6.54,
          6.545,
          6.546,
          6.552,
          6.563,
          6.579,
          6.595,
          6.631,
          6.655,
          6.657,
          6.782,
          6.871,
          6.957,
          6.976,
          7.163,
          7.178,
          7.236,
          7.241,
          7.42,
          7.52,
          7.61,
          7.645,
          7.691,
          7.802,
          7.853,
          7.923,
          8.04,
          8.297,
          8.725
         ],
         "xaxis": "x",
         "y": [
          0.6891079229068495,
          4.5931107052663265,
          5.710003889720873,
          8.292178958368083,
          9.245124519416457,
          11.110028735661672,
          12.636790978631652,
          13.046660037147078,
          13.897138333566588,
          14.163553221601624,
          15.362420217759265,
          15.721055643960263,
          15.751795823348914,
          15.946483626143745,
          16.048950890772602,
          16.520300308065345,
          16.786715196100374,
          16.82770210195192,
          17.329791698633322,
          17.65768694544567,
          17.852374748240493,
          18.098296183349753,
          18.241750353830156,
          18.292983986144584,
          18.446684883087876,
          18.477425062476527,
          18.508165241865186,
          18.62087923295693,
          18.69260631819713,
          18.795073582825992,
          18.989761385620824,
          19.010254838546594,
          19.102475376712555,
          19.112722103175443,
          19.245929547192958,
          19.276669726581616,
          19.522591161690876,
          19.594318246931074,
          19.748019143874366,
          19.809499502651676,
          19.891473314354762,
          20.004187305446507,
          20.045174211298054,
          20.44479654335059,
          20.506276902127908,
          20.598497440293883,
          20.618990893219653,
          20.803431969551596,
          21.069846857586626,
          21.244041207455687,
          21.4489757367134,
          21.47971591610206,
          21.63341681304535,
          21.664156992433995,
          21.74613080413708,
          21.766624257062865,
          21.899831701080373,
          21.910078427543255,
          21.93057188046903,
          21.940818606931913,
          22.115012956800975,
          22.34044093898447,
          22.8117903562772,
          23.108945423700888,
          23.1806725089411,
          23.201165961866863,
          23.662268652696724,
          23.918436814268873,
          24.02090407889773,
          24.205345155229665,
          24.471760043264695,
          24.7586683842255,
          25.28125143383268,
          25.301744886758442,
          25.352978519072877,
          25.36322524553576,
          25.424705604313075,
          25.537419595404813,
          25.701367218810987,
          25.86531484221716,
          26.23419699488106,
          26.480118429990313,
          26.500611882916076,
          27.781452690776803,
          28.693411345973644,
          29.574629821781812,
          29.769317624576644,
          31.685455473136273,
          31.839156370079564,
          32.43346650492694,
          32.48470013724136,
          34.31886417409791,
          35.34353682038649,
          36.26574220204621,
          36.6243776282472,
          37.09572704553996,
          38.233113682920276,
          38.755696732527454,
          39.47296758492945,
          40.67183458108708,
          43.305243282048735,
          47.69084220816383
         ],
         "yaxis": "y"
        }
       ],
       "layout": {
        "legend": {
         "tracegroupgap": 0
        },
        "margin": {
         "t": 60
        },
        "template": {
         "data": {
          "bar": [
           {
            "error_x": {
             "color": "#2a3f5f"
            },
            "error_y": {
             "color": "#2a3f5f"
            },
            "marker": {
             "line": {
              "color": "#E5ECF6",
              "width": 0.5
             },
             "pattern": {
              "fillmode": "overlay",
              "size": 10,
              "solidity": 0.2
             }
            },
            "type": "bar"
           }
          ],
          "barpolar": [
           {
            "marker": {
             "line": {
              "color": "#E5ECF6",
              "width": 0.5
             },
             "pattern": {
              "fillmode": "overlay",
              "size": 10,
              "solidity": 0.2
             }
            },
            "type": "barpolar"
           }
          ],
          "carpet": [
           {
            "aaxis": {
             "endlinecolor": "#2a3f5f",
             "gridcolor": "white",
             "linecolor": "white",
             "minorgridcolor": "white",
             "startlinecolor": "#2a3f5f"
            },
            "baxis": {
             "endlinecolor": "#2a3f5f",
             "gridcolor": "white",
             "linecolor": "white",
             "minorgridcolor": "white",
             "startlinecolor": "#2a3f5f"
            },
            "type": "carpet"
           }
          ],
          "choropleth": [
           {
            "colorbar": {
             "outlinewidth": 0,
             "ticks": ""
            },
            "type": "choropleth"
           }
          ],
          "contour": [
           {
            "colorbar": {
             "outlinewidth": 0,
             "ticks": ""
            },
            "colorscale": [
             [
              0,
              "#0d0887"
             ],
             [
              0.1111111111111111,
              "#46039f"
             ],
             [
              0.2222222222222222,
              "#7201a8"
             ],
             [
              0.3333333333333333,
              "#9c179e"
             ],
             [
              0.4444444444444444,
              "#bd3786"
             ],
             [
              0.5555555555555556,
              "#d8576b"
             ],
             [
              0.6666666666666666,
              "#ed7953"
             ],
             [
              0.7777777777777778,
              "#fb9f3a"
             ],
             [
              0.8888888888888888,
              "#fdca26"
             ],
             [
              1,
              "#f0f921"
             ]
            ],
            "type": "contour"
           }
          ],
          "contourcarpet": [
           {
            "colorbar": {
             "outlinewidth": 0,
             "ticks": ""
            },
            "type": "contourcarpet"
           }
          ],
          "heatmap": [
           {
            "colorbar": {
             "outlinewidth": 0,
             "ticks": ""
            },
            "colorscale": [
             [
              0,
              "#0d0887"
             ],
             [
              0.1111111111111111,
              "#46039f"
             ],
             [
              0.2222222222222222,
              "#7201a8"
             ],
             [
              0.3333333333333333,
              "#9c179e"
             ],
             [
              0.4444444444444444,
              "#bd3786"
             ],
             [
              0.5555555555555556,
              "#d8576b"
             ],
             [
              0.6666666666666666,
              "#ed7953"
             ],
             [
              0.7777777777777778,
              "#fb9f3a"
             ],
             [
              0.8888888888888888,
              "#fdca26"
             ],
             [
              1,
              "#f0f921"
             ]
            ],
            "type": "heatmap"
           }
          ],
          "heatmapgl": [
           {
            "colorbar": {
             "outlinewidth": 0,
             "ticks": ""
            },
            "colorscale": [
             [
              0,
              "#0d0887"
             ],
             [
              0.1111111111111111,
              "#46039f"
             ],
             [
              0.2222222222222222,
              "#7201a8"
             ],
             [
              0.3333333333333333,
              "#9c179e"
             ],
             [
              0.4444444444444444,
              "#bd3786"
             ],
             [
              0.5555555555555556,
              "#d8576b"
             ],
             [
              0.6666666666666666,
              "#ed7953"
             ],
             [
              0.7777777777777778,
              "#fb9f3a"
             ],
             [
              0.8888888888888888,
              "#fdca26"
             ],
             [
              1,
              "#f0f921"
             ]
            ],
            "type": "heatmapgl"
           }
          ],
          "histogram": [
           {
            "marker": {
             "pattern": {
              "fillmode": "overlay",
              "size": 10,
              "solidity": 0.2
             }
            },
            "type": "histogram"
           }
          ],
          "histogram2d": [
           {
            "colorbar": {
             "outlinewidth": 0,
             "ticks": ""
            },
            "colorscale": [
             [
              0,
              "#0d0887"
             ],
             [
              0.1111111111111111,
              "#46039f"
             ],
             [
              0.2222222222222222,
              "#7201a8"
             ],
             [
              0.3333333333333333,
              "#9c179e"
             ],
             [
              0.4444444444444444,
              "#bd3786"
             ],
             [
              0.5555555555555556,
              "#d8576b"
             ],
             [
              0.6666666666666666,
              "#ed7953"
             ],
             [
              0.7777777777777778,
              "#fb9f3a"
             ],
             [
              0.8888888888888888,
              "#fdca26"
             ],
             [
              1,
              "#f0f921"
             ]
            ],
            "type": "histogram2d"
           }
          ],
          "histogram2dcontour": [
           {
            "colorbar": {
             "outlinewidth": 0,
             "ticks": ""
            },
            "colorscale": [
             [
              0,
              "#0d0887"
             ],
             [
              0.1111111111111111,
              "#46039f"
             ],
             [
              0.2222222222222222,
              "#7201a8"
             ],
             [
              0.3333333333333333,
              "#9c179e"
             ],
             [
              0.4444444444444444,
              "#bd3786"
             ],
             [
              0.5555555555555556,
              "#d8576b"
             ],
             [
              0.6666666666666666,
              "#ed7953"
             ],
             [
              0.7777777777777778,
              "#fb9f3a"
             ],
             [
              0.8888888888888888,
              "#fdca26"
             ],
             [
              1,
              "#f0f921"
             ]
            ],
            "type": "histogram2dcontour"
           }
          ],
          "mesh3d": [
           {
            "colorbar": {
             "outlinewidth": 0,
             "ticks": ""
            },
            "type": "mesh3d"
           }
          ],
          "parcoords": [
           {
            "line": {
             "colorbar": {
              "outlinewidth": 0,
              "ticks": ""
             }
            },
            "type": "parcoords"
           }
          ],
          "pie": [
           {
            "automargin": true,
            "type": "pie"
           }
          ],
          "scatter": [
           {
            "marker": {
             "colorbar": {
              "outlinewidth": 0,
              "ticks": ""
             }
            },
            "type": "scatter"
           }
          ],
          "scatter3d": [
           {
            "line": {
             "colorbar": {
              "outlinewidth": 0,
              "ticks": ""
             }
            },
            "marker": {
             "colorbar": {
              "outlinewidth": 0,
              "ticks": ""
             }
            },
            "type": "scatter3d"
           }
          ],
          "scattercarpet": [
           {
            "marker": {
             "colorbar": {
              "outlinewidth": 0,
              "ticks": ""
             }
            },
            "type": "scattercarpet"
           }
          ],
          "scattergeo": [
           {
            "marker": {
             "colorbar": {
              "outlinewidth": 0,
              "ticks": ""
             }
            },
            "type": "scattergeo"
           }
          ],
          "scattergl": [
           {
            "marker": {
             "colorbar": {
              "outlinewidth": 0,
              "ticks": ""
             }
            },
            "type": "scattergl"
           }
          ],
          "scattermapbox": [
           {
            "marker": {
             "colorbar": {
              "outlinewidth": 0,
              "ticks": ""
             }
            },
            "type": "scattermapbox"
           }
          ],
          "scatterpolar": [
           {
            "marker": {
             "colorbar": {
              "outlinewidth": 0,
              "ticks": ""
             }
            },
            "type": "scatterpolar"
           }
          ],
          "scatterpolargl": [
           {
            "marker": {
             "colorbar": {
              "outlinewidth": 0,
              "ticks": ""
             }
            },
            "type": "scatterpolargl"
           }
          ],
          "scatterternary": [
           {
            "marker": {
             "colorbar": {
              "outlinewidth": 0,
              "ticks": ""
             }
            },
            "type": "scatterternary"
           }
          ],
          "surface": [
           {
            "colorbar": {
             "outlinewidth": 0,
             "ticks": ""
            },
            "colorscale": [
             [
              0,
              "#0d0887"
             ],
             [
              0.1111111111111111,
              "#46039f"
             ],
             [
              0.2222222222222222,
              "#7201a8"
             ],
             [
              0.3333333333333333,
              "#9c179e"
             ],
             [
              0.4444444444444444,
              "#bd3786"
             ],
             [
              0.5555555555555556,
              "#d8576b"
             ],
             [
              0.6666666666666666,
              "#ed7953"
             ],
             [
              0.7777777777777778,
              "#fb9f3a"
             ],
             [
              0.8888888888888888,
              "#fdca26"
             ],
             [
              1,
              "#f0f921"
             ]
            ],
            "type": "surface"
           }
          ],
          "table": [
           {
            "cells": {
             "fill": {
              "color": "#EBF0F8"
             },
             "line": {
              "color": "white"
             }
            },
            "header": {
             "fill": {
              "color": "#C8D4E3"
             },
             "line": {
              "color": "white"
             }
            },
            "type": "table"
           }
          ]
         },
         "layout": {
          "annotationdefaults": {
           "arrowcolor": "#2a3f5f",
           "arrowhead": 0,
           "arrowwidth": 1
          },
          "autotypenumbers": "strict",
          "coloraxis": {
           "colorbar": {
            "outlinewidth": 0,
            "ticks": ""
           }
          },
          "colorscale": {
           "diverging": [
            [
             0,
             "#8e0152"
            ],
            [
             0.1,
             "#c51b7d"
            ],
            [
             0.2,
             "#de77ae"
            ],
            [
             0.3,
             "#f1b6da"
            ],
            [
             0.4,
             "#fde0ef"
            ],
            [
             0.5,
             "#f7f7f7"
            ],
            [
             0.6,
             "#e6f5d0"
            ],
            [
             0.7,
             "#b8e186"
            ],
            [
             0.8,
             "#7fbc41"
            ],
            [
             0.9,
             "#4d9221"
            ],
            [
             1,
             "#276419"
            ]
           ],
           "sequential": [
            [
             0,
             "#0d0887"
            ],
            [
             0.1111111111111111,
             "#46039f"
            ],
            [
             0.2222222222222222,
             "#7201a8"
            ],
            [
             0.3333333333333333,
             "#9c179e"
            ],
            [
             0.4444444444444444,
             "#bd3786"
            ],
            [
             0.5555555555555556,
             "#d8576b"
            ],
            [
             0.6666666666666666,
             "#ed7953"
            ],
            [
             0.7777777777777778,
             "#fb9f3a"
            ],
            [
             0.8888888888888888,
             "#fdca26"
            ],
            [
             1,
             "#f0f921"
            ]
           ],
           "sequentialminus": [
            [
             0,
             "#0d0887"
            ],
            [
             0.1111111111111111,
             "#46039f"
            ],
            [
             0.2222222222222222,
             "#7201a8"
            ],
            [
             0.3333333333333333,
             "#9c179e"
            ],
            [
             0.4444444444444444,
             "#bd3786"
            ],
            [
             0.5555555555555556,
             "#d8576b"
            ],
            [
             0.6666666666666666,
             "#ed7953"
            ],
            [
             0.7777777777777778,
             "#fb9f3a"
            ],
            [
             0.8888888888888888,
             "#fdca26"
            ],
            [
             1,
             "#f0f921"
            ]
           ]
          },
          "colorway": [
           "#636efa",
           "#EF553B",
           "#00cc96",
           "#ab63fa",
           "#FFA15A",
           "#19d3f3",
           "#FF6692",
           "#B6E880",
           "#FF97FF",
           "#FECB52"
          ],
          "font": {
           "color": "#2a3f5f"
          },
          "geo": {
           "bgcolor": "white",
           "lakecolor": "white",
           "landcolor": "#E5ECF6",
           "showlakes": true,
           "showland": true,
           "subunitcolor": "white"
          },
          "hoverlabel": {
           "align": "left"
          },
          "hovermode": "closest",
          "mapbox": {
           "style": "light"
          },
          "paper_bgcolor": "white",
          "plot_bgcolor": "#E5ECF6",
          "polar": {
           "angularaxis": {
            "gridcolor": "white",
            "linecolor": "white",
            "ticks": ""
           },
           "bgcolor": "#E5ECF6",
           "radialaxis": {
            "gridcolor": "white",
            "linecolor": "white",
            "ticks": ""
           }
          },
          "scene": {
           "xaxis": {
            "backgroundcolor": "#E5ECF6",
            "gridcolor": "white",
            "gridwidth": 2,
            "linecolor": "white",
            "showbackground": true,
            "ticks": "",
            "zerolinecolor": "white"
           },
           "yaxis": {
            "backgroundcolor": "#E5ECF6",
            "gridcolor": "white",
            "gridwidth": 2,
            "linecolor": "white",
            "showbackground": true,
            "ticks": "",
            "zerolinecolor": "white"
           },
           "zaxis": {
            "backgroundcolor": "#E5ECF6",
            "gridcolor": "white",
            "gridwidth": 2,
            "linecolor": "white",
            "showbackground": true,
            "ticks": "",
            "zerolinecolor": "white"
           }
          },
          "shapedefaults": {
           "line": {
            "color": "#2a3f5f"
           }
          },
          "ternary": {
           "aaxis": {
            "gridcolor": "white",
            "linecolor": "white",
            "ticks": ""
           },
           "baxis": {
            "gridcolor": "white",
            "linecolor": "white",
            "ticks": ""
           },
           "bgcolor": "#E5ECF6",
           "caxis": {
            "gridcolor": "white",
            "linecolor": "white",
            "ticks": ""
           }
          },
          "title": {
           "x": 0.05
          },
          "xaxis": {
           "automargin": true,
           "gridcolor": "white",
           "linecolor": "white",
           "ticks": "",
           "title": {
            "standoff": 15
           },
           "zerolinecolor": "white",
           "zerolinewidth": 2
          },
          "yaxis": {
           "automargin": true,
           "gridcolor": "white",
           "linecolor": "white",
           "ticks": "",
           "title": {
            "standoff": 15
           },
           "zerolinecolor": "white",
           "zerolinewidth": 2
          }
         }
        },
        "xaxis": {
         "anchor": "y",
         "domain": [
          0,
          1
         ],
         "title": {
          "text": "x"
         }
        },
        "yaxis": {
         "anchor": "x",
         "domain": [
          0,
          1
         ],
         "title": {
          "text": "y"
         }
        }
       }
      }
     },
     "metadata": {},
     "output_type": "display_data"
    }
   ],
   "source": [
    "px.scatter(x=X_test['RM'], y=y_test, opacity=0.65, \n",
    "                trendline='ols', trendline_color_override='darkred')"
   ]
  },
  {
   "cell_type": "markdown",
   "metadata": {},
   "source": [
    "Regressionsgerade für RM (durchschnittliche Anzahl der Zimmer pro Wohnung)"
   ]
  },
  {
   "cell_type": "code",
   "execution_count": 22,
   "metadata": {},
   "outputs": [
    {
     "data": {
      "application/vnd.plotly.v1+json": {
       "config": {
        "plotlyServerURL": "https://plot.ly"
       },
       "data": [
        {
         "hovertemplate": "x=%{x}<br>y=%{y}<extra></extra>",
         "legendgroup": "",
         "marker": {
          "color": "#636efa",
          "opacity": 0.65,
          "symbol": "circle"
         },
         "mode": "markers",
         "name": "",
         "orientation": "v",
         "showlegend": false,
         "type": "scatter",
         "x": [
          14.09,
          4.63,
          18.34,
          9.52,
          8.26,
          5.49,
          21.46,
          18.13,
          5.49,
          12.33,
          3.76,
          13.22,
          21.08,
          13.04,
          15.17,
          7.34,
          17.15,
          11.72,
          14.76,
          6.58,
          14.81,
          15.69,
          6.12,
          18.07,
          3.01,
          6.07,
          12.13,
          6.43,
          12.79,
          12.64,
          23.34,
          1.92,
          34.37,
          8.43,
          3.11,
          11.45,
          23.09,
          15.79,
          18.13,
          12.26,
          17.1,
          10.42,
          5.64,
          8.65,
          21.22,
          9.47,
          20.08,
          30.59,
          9.1,
          16.96,
          7.44,
          9.81,
          30.62,
          9.54,
          6.58,
          23.69,
          5.68,
          19.01,
          15.55,
          14.7,
          5.57,
          17.73,
          21.02,
          12.14,
          13.34,
          23.98,
          5.9,
          18.46,
          4.32,
          3.16,
          7.44,
          6.47,
          16.3,
          16.47,
          36.98,
          14.19,
          15.17,
          3.13,
          10.63,
          7.73,
          12.43,
          7.26,
          6.36,
          18.14,
          5.33,
          3.53,
          9.45,
          13.51,
          3.81,
          14.33,
          6.93,
          22.98,
          25.79,
          22.88,
          13,
          2.87,
          10.56,
          13,
          17.6,
          17.27,
          14.1,
          26.64
         ],
         "xaxis": "x",
         "y": [
          20.4,
          50,
          14.3,
          24.5,
          20.4,
          24.1,
          21.7,
          14.1,
          32.7,
          20.1,
          31.5,
          21.4,
          10.9,
          14.5,
          11.7,
          22.6,
          19,
          19.4,
          20.1,
          23.1,
          16.6,
          10.2,
          25,
          13.6,
          46,
          24.8,
          27.9,
          24.3,
          22.2,
          16.1,
          11.9,
          50,
          17.9,
          23.4,
          42.3,
          20.6,
          20,
          19.4,
          19.1,
          19.6,
          18.9,
          21.8,
          23.9,
          16.5,
          17.2,
          25,
          16.3,
          5,
          20.3,
          18.1,
          50,
          25,
          10.2,
          25.1,
          35.2,
          13.1,
          32.5,
          12.7,
          19.4,
          20,
          20.6,
          15.2,
          13.6,
          23.8,
          20.6,
          11.8,
          24.4,
          18.5,
          30.8,
          50,
          24.7,
          33.4,
          15.6,
          19.5,
          7,
          19.9,
          13.8,
          37.6,
          18.6,
          24.4,
          22.9,
          43.1,
          31.6,
          13.8,
          29.4,
          29.6,
          36.2,
          23.3,
          48.5,
          16.8,
          36.1,
          5,
          7.5,
          12.8,
          21.1,
          36.4,
          18.5,
          21.7,
          17.8,
          16.1,
          18.3,
          10.4
         ],
         "yaxis": "y"
        },
        {
         "hovertemplate": "<b>OLS trendline</b><br>y = -1.04774 * x + 36.2674<br>R<sup>2</sup>=0.582808<br><br>x=%{x}<br>y=%{y} <b>(trend)</b><extra></extra>",
         "legendgroup": "",
         "line": {
          "color": "darkred"
         },
         "marker": {
          "color": "#636efa",
          "symbol": "circle"
         },
         "mode": "lines",
         "name": "",
         "showlegend": false,
         "type": "scatter",
         "x": [
          1.92,
          2.87,
          3.01,
          3.11,
          3.13,
          3.16,
          3.53,
          3.76,
          3.81,
          4.32,
          4.63,
          5.33,
          5.49,
          5.49,
          5.57,
          5.64,
          5.68,
          5.9,
          6.07,
          6.12,
          6.36,
          6.43,
          6.47,
          6.58,
          6.58,
          6.93,
          7.26,
          7.34,
          7.44,
          7.44,
          7.73,
          8.26,
          8.43,
          8.65,
          9.1,
          9.45,
          9.47,
          9.52,
          9.54,
          9.81,
          10.42,
          10.56,
          10.63,
          11.45,
          11.72,
          12.13,
          12.14,
          12.26,
          12.33,
          12.43,
          12.64,
          12.79,
          13,
          13,
          13.04,
          13.22,
          13.34,
          13.51,
          14.09,
          14.1,
          14.19,
          14.33,
          14.7,
          14.76,
          14.81,
          15.17,
          15.17,
          15.55,
          15.69,
          15.79,
          16.3,
          16.47,
          16.96,
          17.1,
          17.15,
          17.27,
          17.6,
          17.73,
          18.07,
          18.13,
          18.13,
          18.14,
          18.34,
          18.46,
          19.01,
          20.08,
          21.02,
          21.08,
          21.22,
          21.46,
          22.88,
          22.98,
          23.09,
          23.34,
          23.69,
          23.98,
          25.79,
          26.64,
          30.59,
          30.62,
          34.37,
          36.98
         ],
         "xaxis": "x",
         "y": [
          34.255751478760224,
          33.26039962193136,
          33.11371619039869,
          33.00894231073249,
          32.98798753479925,
          32.956555370899395,
          32.56889201613447,
          32.32791209290222,
          32.27552515306912,
          31.74117836677152,
          31.416379339806316,
          30.682962182142944,
          30.51532397467703,
          30.51532397467703,
          30.43150487094407,
          30.358163155177735,
          30.316253603311257,
          30.085751068045624,
          29.90763547261309,
          29.855248532779996,
          29.603791221581123,
          29.530449505814786,
          29.488539953948308,
          29.373288686315494,
          29.373288686315494,
          29.006580107483806,
          28.66082630458536,
          28.577007200852403,
          28.472233321186206,
          28.472233321186206,
          28.16838907015424,
          27.613087507923403,
          27.434971912490866,
          27.204469377225237,
          26.732986918727356,
          26.36627833989567,
          26.34532356396243,
          26.292936624129332,
          26.27198184819609,
          25.989092373097364,
          25.34997170713357,
          25.20328827560089,
          25.129946559834554,
          24.27080074657175,
          23.987911271473017,
          23.558338364841617,
          23.547860976874993,
          23.422132321275562,
          23.348790605509222,
          23.24401672584303,
          23.023991578544017,
          22.866830759044724,
          22.646805611745712,
          22.646805611745712,
          22.604896059879234,
          22.416303076480077,
          22.290574420880645,
          22.112458825448112,
          21.504770323384175,
          21.494292935417555,
          21.39999644371798,
          21.253313012185302,
          20.86564965742038,
          20.80278532962066,
          20.750398389787563,
          20.37321242298926,
          20.37321242298926,
          19.975071680257713,
          19.82838824872504,
          19.723614369058843,
          19.189267582761243,
          19.011151987328713,
          18.49775997696435,
          18.351076545431674,
          18.29868960559858,
          18.172960949999144,
          17.827207147100694,
          17.691001103534642,
          17.334769912669575,
          17.27190558486986,
          17.27190558486986,
          17.261428196903235,
          17.051880437570844,
          16.92615178197141,
          16.34989544380733,
          15.228814931379038,
          14.243940462516793,
          14.181076134717078,
          14.034392703184402,
          13.782935391985529,
          12.295146300725548,
          12.190372421059351,
          12.075121153426537,
          11.813186454261047,
          11.446477875429359,
          11.14263362439739,
          9.246226402439245,
          8.35564842527658,
          4.217080178461842,
          4.185648014561977,
          0.25662752707962966,
          -2.477970732208078
         ],
         "yaxis": "y"
        }
       ],
       "layout": {
        "legend": {
         "tracegroupgap": 0
        },
        "margin": {
         "t": 60
        },
        "template": {
         "data": {
          "bar": [
           {
            "error_x": {
             "color": "#2a3f5f"
            },
            "error_y": {
             "color": "#2a3f5f"
            },
            "marker": {
             "line": {
              "color": "#E5ECF6",
              "width": 0.5
             },
             "pattern": {
              "fillmode": "overlay",
              "size": 10,
              "solidity": 0.2
             }
            },
            "type": "bar"
           }
          ],
          "barpolar": [
           {
            "marker": {
             "line": {
              "color": "#E5ECF6",
              "width": 0.5
             },
             "pattern": {
              "fillmode": "overlay",
              "size": 10,
              "solidity": 0.2
             }
            },
            "type": "barpolar"
           }
          ],
          "carpet": [
           {
            "aaxis": {
             "endlinecolor": "#2a3f5f",
             "gridcolor": "white",
             "linecolor": "white",
             "minorgridcolor": "white",
             "startlinecolor": "#2a3f5f"
            },
            "baxis": {
             "endlinecolor": "#2a3f5f",
             "gridcolor": "white",
             "linecolor": "white",
             "minorgridcolor": "white",
             "startlinecolor": "#2a3f5f"
            },
            "type": "carpet"
           }
          ],
          "choropleth": [
           {
            "colorbar": {
             "outlinewidth": 0,
             "ticks": ""
            },
            "type": "choropleth"
           }
          ],
          "contour": [
           {
            "colorbar": {
             "outlinewidth": 0,
             "ticks": ""
            },
            "colorscale": [
             [
              0,
              "#0d0887"
             ],
             [
              0.1111111111111111,
              "#46039f"
             ],
             [
              0.2222222222222222,
              "#7201a8"
             ],
             [
              0.3333333333333333,
              "#9c179e"
             ],
             [
              0.4444444444444444,
              "#bd3786"
             ],
             [
              0.5555555555555556,
              "#d8576b"
             ],
             [
              0.6666666666666666,
              "#ed7953"
             ],
             [
              0.7777777777777778,
              "#fb9f3a"
             ],
             [
              0.8888888888888888,
              "#fdca26"
             ],
             [
              1,
              "#f0f921"
             ]
            ],
            "type": "contour"
           }
          ],
          "contourcarpet": [
           {
            "colorbar": {
             "outlinewidth": 0,
             "ticks": ""
            },
            "type": "contourcarpet"
           }
          ],
          "heatmap": [
           {
            "colorbar": {
             "outlinewidth": 0,
             "ticks": ""
            },
            "colorscale": [
             [
              0,
              "#0d0887"
             ],
             [
              0.1111111111111111,
              "#46039f"
             ],
             [
              0.2222222222222222,
              "#7201a8"
             ],
             [
              0.3333333333333333,
              "#9c179e"
             ],
             [
              0.4444444444444444,
              "#bd3786"
             ],
             [
              0.5555555555555556,
              "#d8576b"
             ],
             [
              0.6666666666666666,
              "#ed7953"
             ],
             [
              0.7777777777777778,
              "#fb9f3a"
             ],
             [
              0.8888888888888888,
              "#fdca26"
             ],
             [
              1,
              "#f0f921"
             ]
            ],
            "type": "heatmap"
           }
          ],
          "heatmapgl": [
           {
            "colorbar": {
             "outlinewidth": 0,
             "ticks": ""
            },
            "colorscale": [
             [
              0,
              "#0d0887"
             ],
             [
              0.1111111111111111,
              "#46039f"
             ],
             [
              0.2222222222222222,
              "#7201a8"
             ],
             [
              0.3333333333333333,
              "#9c179e"
             ],
             [
              0.4444444444444444,
              "#bd3786"
             ],
             [
              0.5555555555555556,
              "#d8576b"
             ],
             [
              0.6666666666666666,
              "#ed7953"
             ],
             [
              0.7777777777777778,
              "#fb9f3a"
             ],
             [
              0.8888888888888888,
              "#fdca26"
             ],
             [
              1,
              "#f0f921"
             ]
            ],
            "type": "heatmapgl"
           }
          ],
          "histogram": [
           {
            "marker": {
             "pattern": {
              "fillmode": "overlay",
              "size": 10,
              "solidity": 0.2
             }
            },
            "type": "histogram"
           }
          ],
          "histogram2d": [
           {
            "colorbar": {
             "outlinewidth": 0,
             "ticks": ""
            },
            "colorscale": [
             [
              0,
              "#0d0887"
             ],
             [
              0.1111111111111111,
              "#46039f"
             ],
             [
              0.2222222222222222,
              "#7201a8"
             ],
             [
              0.3333333333333333,
              "#9c179e"
             ],
             [
              0.4444444444444444,
              "#bd3786"
             ],
             [
              0.5555555555555556,
              "#d8576b"
             ],
             [
              0.6666666666666666,
              "#ed7953"
             ],
             [
              0.7777777777777778,
              "#fb9f3a"
             ],
             [
              0.8888888888888888,
              "#fdca26"
             ],
             [
              1,
              "#f0f921"
             ]
            ],
            "type": "histogram2d"
           }
          ],
          "histogram2dcontour": [
           {
            "colorbar": {
             "outlinewidth": 0,
             "ticks": ""
            },
            "colorscale": [
             [
              0,
              "#0d0887"
             ],
             [
              0.1111111111111111,
              "#46039f"
             ],
             [
              0.2222222222222222,
              "#7201a8"
             ],
             [
              0.3333333333333333,
              "#9c179e"
             ],
             [
              0.4444444444444444,
              "#bd3786"
             ],
             [
              0.5555555555555556,
              "#d8576b"
             ],
             [
              0.6666666666666666,
              "#ed7953"
             ],
             [
              0.7777777777777778,
              "#fb9f3a"
             ],
             [
              0.8888888888888888,
              "#fdca26"
             ],
             [
              1,
              "#f0f921"
             ]
            ],
            "type": "histogram2dcontour"
           }
          ],
          "mesh3d": [
           {
            "colorbar": {
             "outlinewidth": 0,
             "ticks": ""
            },
            "type": "mesh3d"
           }
          ],
          "parcoords": [
           {
            "line": {
             "colorbar": {
              "outlinewidth": 0,
              "ticks": ""
             }
            },
            "type": "parcoords"
           }
          ],
          "pie": [
           {
            "automargin": true,
            "type": "pie"
           }
          ],
          "scatter": [
           {
            "marker": {
             "colorbar": {
              "outlinewidth": 0,
              "ticks": ""
             }
            },
            "type": "scatter"
           }
          ],
          "scatter3d": [
           {
            "line": {
             "colorbar": {
              "outlinewidth": 0,
              "ticks": ""
             }
            },
            "marker": {
             "colorbar": {
              "outlinewidth": 0,
              "ticks": ""
             }
            },
            "type": "scatter3d"
           }
          ],
          "scattercarpet": [
           {
            "marker": {
             "colorbar": {
              "outlinewidth": 0,
              "ticks": ""
             }
            },
            "type": "scattercarpet"
           }
          ],
          "scattergeo": [
           {
            "marker": {
             "colorbar": {
              "outlinewidth": 0,
              "ticks": ""
             }
            },
            "type": "scattergeo"
           }
          ],
          "scattergl": [
           {
            "marker": {
             "colorbar": {
              "outlinewidth": 0,
              "ticks": ""
             }
            },
            "type": "scattergl"
           }
          ],
          "scattermapbox": [
           {
            "marker": {
             "colorbar": {
              "outlinewidth": 0,
              "ticks": ""
             }
            },
            "type": "scattermapbox"
           }
          ],
          "scatterpolar": [
           {
            "marker": {
             "colorbar": {
              "outlinewidth": 0,
              "ticks": ""
             }
            },
            "type": "scatterpolar"
           }
          ],
          "scatterpolargl": [
           {
            "marker": {
             "colorbar": {
              "outlinewidth": 0,
              "ticks": ""
             }
            },
            "type": "scatterpolargl"
           }
          ],
          "scatterternary": [
           {
            "marker": {
             "colorbar": {
              "outlinewidth": 0,
              "ticks": ""
             }
            },
            "type": "scatterternary"
           }
          ],
          "surface": [
           {
            "colorbar": {
             "outlinewidth": 0,
             "ticks": ""
            },
            "colorscale": [
             [
              0,
              "#0d0887"
             ],
             [
              0.1111111111111111,
              "#46039f"
             ],
             [
              0.2222222222222222,
              "#7201a8"
             ],
             [
              0.3333333333333333,
              "#9c179e"
             ],
             [
              0.4444444444444444,
              "#bd3786"
             ],
             [
              0.5555555555555556,
              "#d8576b"
             ],
             [
              0.6666666666666666,
              "#ed7953"
             ],
             [
              0.7777777777777778,
              "#fb9f3a"
             ],
             [
              0.8888888888888888,
              "#fdca26"
             ],
             [
              1,
              "#f0f921"
             ]
            ],
            "type": "surface"
           }
          ],
          "table": [
           {
            "cells": {
             "fill": {
              "color": "#EBF0F8"
             },
             "line": {
              "color": "white"
             }
            },
            "header": {
             "fill": {
              "color": "#C8D4E3"
             },
             "line": {
              "color": "white"
             }
            },
            "type": "table"
           }
          ]
         },
         "layout": {
          "annotationdefaults": {
           "arrowcolor": "#2a3f5f",
           "arrowhead": 0,
           "arrowwidth": 1
          },
          "autotypenumbers": "strict",
          "coloraxis": {
           "colorbar": {
            "outlinewidth": 0,
            "ticks": ""
           }
          },
          "colorscale": {
           "diverging": [
            [
             0,
             "#8e0152"
            ],
            [
             0.1,
             "#c51b7d"
            ],
            [
             0.2,
             "#de77ae"
            ],
            [
             0.3,
             "#f1b6da"
            ],
            [
             0.4,
             "#fde0ef"
            ],
            [
             0.5,
             "#f7f7f7"
            ],
            [
             0.6,
             "#e6f5d0"
            ],
            [
             0.7,
             "#b8e186"
            ],
            [
             0.8,
             "#7fbc41"
            ],
            [
             0.9,
             "#4d9221"
            ],
            [
             1,
             "#276419"
            ]
           ],
           "sequential": [
            [
             0,
             "#0d0887"
            ],
            [
             0.1111111111111111,
             "#46039f"
            ],
            [
             0.2222222222222222,
             "#7201a8"
            ],
            [
             0.3333333333333333,
             "#9c179e"
            ],
            [
             0.4444444444444444,
             "#bd3786"
            ],
            [
             0.5555555555555556,
             "#d8576b"
            ],
            [
             0.6666666666666666,
             "#ed7953"
            ],
            [
             0.7777777777777778,
             "#fb9f3a"
            ],
            [
             0.8888888888888888,
             "#fdca26"
            ],
            [
             1,
             "#f0f921"
            ]
           ],
           "sequentialminus": [
            [
             0,
             "#0d0887"
            ],
            [
             0.1111111111111111,
             "#46039f"
            ],
            [
             0.2222222222222222,
             "#7201a8"
            ],
            [
             0.3333333333333333,
             "#9c179e"
            ],
            [
             0.4444444444444444,
             "#bd3786"
            ],
            [
             0.5555555555555556,
             "#d8576b"
            ],
            [
             0.6666666666666666,
             "#ed7953"
            ],
            [
             0.7777777777777778,
             "#fb9f3a"
            ],
            [
             0.8888888888888888,
             "#fdca26"
            ],
            [
             1,
             "#f0f921"
            ]
           ]
          },
          "colorway": [
           "#636efa",
           "#EF553B",
           "#00cc96",
           "#ab63fa",
           "#FFA15A",
           "#19d3f3",
           "#FF6692",
           "#B6E880",
           "#FF97FF",
           "#FECB52"
          ],
          "font": {
           "color": "#2a3f5f"
          },
          "geo": {
           "bgcolor": "white",
           "lakecolor": "white",
           "landcolor": "#E5ECF6",
           "showlakes": true,
           "showland": true,
           "subunitcolor": "white"
          },
          "hoverlabel": {
           "align": "left"
          },
          "hovermode": "closest",
          "mapbox": {
           "style": "light"
          },
          "paper_bgcolor": "white",
          "plot_bgcolor": "#E5ECF6",
          "polar": {
           "angularaxis": {
            "gridcolor": "white",
            "linecolor": "white",
            "ticks": ""
           },
           "bgcolor": "#E5ECF6",
           "radialaxis": {
            "gridcolor": "white",
            "linecolor": "white",
            "ticks": ""
           }
          },
          "scene": {
           "xaxis": {
            "backgroundcolor": "#E5ECF6",
            "gridcolor": "white",
            "gridwidth": 2,
            "linecolor": "white",
            "showbackground": true,
            "ticks": "",
            "zerolinecolor": "white"
           },
           "yaxis": {
            "backgroundcolor": "#E5ECF6",
            "gridcolor": "white",
            "gridwidth": 2,
            "linecolor": "white",
            "showbackground": true,
            "ticks": "",
            "zerolinecolor": "white"
           },
           "zaxis": {
            "backgroundcolor": "#E5ECF6",
            "gridcolor": "white",
            "gridwidth": 2,
            "linecolor": "white",
            "showbackground": true,
            "ticks": "",
            "zerolinecolor": "white"
           }
          },
          "shapedefaults": {
           "line": {
            "color": "#2a3f5f"
           }
          },
          "ternary": {
           "aaxis": {
            "gridcolor": "white",
            "linecolor": "white",
            "ticks": ""
           },
           "baxis": {
            "gridcolor": "white",
            "linecolor": "white",
            "ticks": ""
           },
           "bgcolor": "#E5ECF6",
           "caxis": {
            "gridcolor": "white",
            "linecolor": "white",
            "ticks": ""
           }
          },
          "title": {
           "x": 0.05
          },
          "xaxis": {
           "automargin": true,
           "gridcolor": "white",
           "linecolor": "white",
           "ticks": "",
           "title": {
            "standoff": 15
           },
           "zerolinecolor": "white",
           "zerolinewidth": 2
          },
          "yaxis": {
           "automargin": true,
           "gridcolor": "white",
           "linecolor": "white",
           "ticks": "",
           "title": {
            "standoff": 15
           },
           "zerolinecolor": "white",
           "zerolinewidth": 2
          }
         }
        },
        "xaxis": {
         "anchor": "y",
         "domain": [
          0,
          1
         ],
         "title": {
          "text": "x"
         }
        },
        "yaxis": {
         "anchor": "x",
         "domain": [
          0,
          1
         ],
         "title": {
          "text": "y"
         }
        }
       }
      }
     },
     "metadata": {},
     "output_type": "display_data"
    }
   ],
   "source": [
    "px.scatter(x=X_test['LSTAT'], y=y_test, opacity=0.65, \n",
    "                trendline='ols', trendline_color_override='darkred')"
   ]
  },
  {
   "cell_type": "markdown",
   "metadata": {},
   "source": [
    "Regressionsgerade für LSTAT (% niedrigerer Status der Bevölkerung)"
   ]
  },
  {
   "cell_type": "code",
   "execution_count": 23,
   "metadata": {},
   "outputs": [
    {
     "data": {
      "text/plain": [
       "<AxesSubplot:ylabel='PRICE'>"
      ]
     },
     "execution_count": 23,
     "metadata": {},
     "output_type": "execute_result"
    },
    {
     "data": {
      "image/png": "[encoded data removed]",
      "text/plain": [
       "<Figure size 432x288 with 1 Axes>"
      ]
     },
     "metadata": {
      "needs_background": "light"
     },
     "output_type": "display_data"
    }
   ],
   "source": [
    "sns.residplot(x=y_pred, y=y_test, scatter_kws={\"s\": 80})"
   ]
  },
  {
   "cell_type": "markdown",
   "metadata": {},
   "source": [
    "Weitaus weniger Punkte, da Testset wesentlich kleiner als Trainingset ist."
   ]
  },
  {
   "cell_type": "markdown",
   "metadata": {},
   "source": [
    "Modell mit allen Features/Variablen trainieren, um damit die Genauigkeit/Bestimmtheitsmaß zu erhöhen"
   ]
  },
  {
   "cell_type": "code",
   "execution_count": 24,
   "metadata": {},
   "outputs": [],
   "source": [
    "X= df.drop(columns='PRICE')\n",
    "Y= df.PRICE"
   ]
  },
  {
   "cell_type": "code",
   "execution_count": 25,
   "metadata": {},
   "outputs": [],
   "source": [
    "from sklearn.model_selection import train_test_split\n",
    "X_train, X_test, y_train, y_test = train_test_split(X,Y,test_size=0.2)"
   ]
  },
  {
   "cell_type": "markdown",
   "metadata": {},
   "source": [
    "Modelltraining mit Trainingsdaten"
   ]
  },
  {
   "cell_type": "code",
   "execution_count": 26,
   "metadata": {},
   "outputs": [],
   "source": [
    "from sklearn.linear_model import LinearRegression\n",
    "from sklearn.metrics import r2_score\n",
    "linreg = LinearRegression()\n",
    "linreg.fit(X_train,y_train)\n",
    "y_pred = linreg.predict(X_train)\n"
   ]
  },
  {
   "cell_type": "code",
   "execution_count": 27,
   "metadata": {},
   "outputs": [
    {
     "name": "stdout",
     "output_type": "stream",
     "text": [
      "R^2: 0.733534043238552\n",
      "Adjusted R^2: 0.7246518446798371\n",
      "MAE: 3.263526055083248\n",
      "MSE: 21.65548181513059\n",
      "RMSE: 4.653545080380181\n"
     ]
    }
   ],
   "source": [
    "print('R^2:',metrics.r2_score(y_train, y_pred))\n",
    "print('Adjusted R^2:',1 - (1-metrics.r2_score(y_train, y_pred))*(len(y_train)-1)/(len(y_train)-X_train.shape[1]-1))\n",
    "print('MAE:',metrics.mean_absolute_error(y_train, y_pred))\n",
    "print('MSE:',metrics.mean_squared_error(y_train, y_pred))\n",
    "print('RMSE:',np.sqrt(metrics.mean_squared_error(y_train, y_pred)))"
   ]
  },
  {
   "cell_type": "markdown",
   "metadata": {},
   "source": [
    "Weitaus bessere Metriken erreicht. Circa 0.11 höherer Adjusted R^2 Wert."
   ]
  },
  {
   "cell_type": "code",
   "execution_count": 28,
   "metadata": {},
   "outputs": [
    {
     "data": {
      "text/plain": [
       "<AxesSubplot:ylabel='PRICE'>"
      ]
     },
     "execution_count": 28,
     "metadata": {},
     "output_type": "execute_result"
    },
    {
     "data": {
      "image/png": "[encoded data removed]",
      "text/plain": [
       "<Figure size 432x288 with 1 Axes>"
      ]
     },
     "metadata": {
      "needs_background": "light"
     },
     "output_type": "display_data"
    }
   ],
   "source": [
    "sns.residplot(x=y_pred, y=y_train, scatter_kws={\"s\": 80})"
   ]
  },
  {
   "cell_type": "markdown",
   "metadata": {},
   "source": [
    "Im Residplot spiegelt sich die Verbesserung des Modells auch wider."
   ]
  },
  {
   "cell_type": "markdown",
   "metadata": {},
   "source": [
    "### Modellevaluation\n",
    "\n",
    "Modellevaluation mit Testdaten"
   ]
  },
  {
   "cell_type": "code",
   "execution_count": 29,
   "metadata": {},
   "outputs": [],
   "source": [
    "y_pred = linreg.predict(X_test)\n"
   ]
  },
  {
   "cell_type": "code",
   "execution_count": 30,
   "metadata": {},
   "outputs": [
    {
     "name": "stdout",
     "output_type": "stream",
     "text": [
      "R^2: 0.7509292938298867\n",
      "Adjusted R^2: 0.7426269369575496\n",
      "MAE: 3.388791435953224\n",
      "MSE: 24.127041685350477\n",
      "RMSE: 4.911928509796379\n"
     ]
    }
   ],
   "source": [
    "print('R^2:',metrics.r2_score(y_test, y_pred))\n",
    "print('Adjusted R^2:',1 - (1-metrics.r2_score(y_test, y_pred))*(len(y_train)-1)/(len(y_train)-X_train.shape[1]-1))\n",
    "print('MAE:',metrics.mean_absolute_error(y_test, y_pred))\n",
    "print('MSE:',metrics.mean_squared_error(y_test, y_pred))\n",
    "print('RMSE:',np.sqrt(metrics.mean_squared_error(y_test, y_pred)))"
   ]
  },
  {
   "cell_type": "markdown",
   "metadata": {},
   "source": [
    "Auch bei der Anwendung auf Testdaten höherer Adjusted R^2 Wert erreicht."
   ]
  },
  {
   "cell_type": "code",
   "execution_count": 31,
   "metadata": {},
   "outputs": [
    {
     "data": {
      "text/plain": [
       "<AxesSubplot:ylabel='PRICE'>"
      ]
     },
     "execution_count": 31,
     "metadata": {},
     "output_type": "execute_result"
    },
    {
     "data": {
      "image/png": "[encoded data removed]",
      "text/plain": [
       "<Figure size 432x288 with 1 Axes>"
      ]
     },
     "metadata": {
      "needs_background": "light"
     },
     "output_type": "display_data"
    }
   ],
   "source": [
    "sns.residplot(x=y_pred, y=y_test, scatter_kws={\"s\": 80})"
   ]
  },
  {
   "cell_type": "markdown",
   "metadata": {},
   "source": [
    "Residplot wirkt bis auf einen Ausreißer sehr zufriedenstellend."
   ]
  },
  {
   "cell_type": "markdown",
   "metadata": {},
   "source": [
    "Weiteres Regressionsmodell zum Vergleichen"
   ]
  },
  {
   "cell_type": "markdown",
   "metadata": {},
   "source": [
    "Mit Hilfe von Machine Learning Ansätzen kann das Modell noch weiter verbessert werden. Hierzu wird aus dem Bereich der ensemble Methods (Bagging) der Random Forest Regressor verwendet."
   ]
  },
  {
   "cell_type": "code",
   "execution_count": 33,
   "metadata": {},
   "outputs": [],
   "source": [
    "from sklearn.ensemble import RandomForestRegressor\n",
    "forest_regressor = RandomForestRegressor(n_estimators=50)\n",
    "# n_estimators gibt die Menge an Bäumen an\n",
    "forest_regressor.fit(X_train, y_train)\n",
    "y_pred_forest = forest_regressor.predict(X_test)"
   ]
  },
  {
   "cell_type": "code",
   "execution_count": 34,
   "metadata": {},
   "outputs": [
    {
     "name": "stdout",
     "output_type": "stream",
     "text": [
      "R^2: 0.8827183949073305\n",
      "Adjusted R^2: 0.8788090080709082\n",
      "MAE: 2.333509803921569\n",
      "MSE: 11.36086301960784\n",
      "RMSE: 3.370587933819238\n"
     ]
    }
   ],
   "source": [
    "print('R^2:',metrics.r2_score(y_test, y_pred_forest))\n",
    "print('Adjusted R^2:',1 - (1-metrics.r2_score(y_test, y_pred_forest))*(len(y_train)-1)/(len(y_train)-X_train.shape[1]-1))\n",
    "print('MAE:',metrics.mean_absolute_error(y_test, y_pred_forest))\n",
    "print('MSE:',metrics.mean_squared_error(y_test, y_pred_forest))\n",
    "print('RMSE:',np.sqrt(metrics.mean_squared_error(y_test, y_pred_forest)))"
   ]
  },
  {
   "cell_type": "markdown",
   "metadata": {},
   "source": [
    "Hier wird ein weitaus höherer Adjusted R^2 Wert und ein weitaus geringerer RMSE Wert erreicht. Dieses Modell ist um einiges besser geeignet."
   ]
  },
  {
   "cell_type": "code",
   "execution_count": 35,
   "metadata": {},
   "outputs": [
    {
     "data": {
      "text/plain": [
       "<AxesSubplot:ylabel='PRICE'>"
      ]
     },
     "execution_count": 35,
     "metadata": {},
     "output_type": "execute_result"
    },
    {
     "data": {
      "image/png": "[encoded data removed]",
      "text/plain": [
       "<Figure size 432x288 with 1 Axes>"
      ]
     },
     "metadata": {
      "needs_background": "light"
     },
     "output_type": "display_data"
    }
   ],
   "source": [
    "sns.residplot(x=y_pred_forest, y=y_test, scatter_kws={\"s\": 80})"
   ]
  },
  {
   "cell_type": "markdown",
   "metadata": {},
   "source": [
    "Sehr geringe Fehler/Abweichung!"
   ]
  },
  {
   "cell_type": "markdown",
   "metadata": {},
   "source": [
    "### Interpretation\n",
    "\n",
    "Die definierten Erfolgsmetriken wurden bereits mit dem Linear Regression Modell erreicht. Bei der Anwendung auf Testdaten ist die Genauigkeit des Modells mit allen Variablen bereits um einiges höher als das Modell mit nur den relevantesten Variablen. Im Vergleich zur Linearen Regression ist die Preisvorhersage mit dem Random Forest Regressor am effektivsten/genauesten. Mit einem Bestimmtheitsmaß von 0.88 kann das Modell 88% der Streuung der Daten \"erklären\". Dies ist ein sehr gutes Ergebnis wenn man bedenkt, wie enorm hilfreich ein solches Modell sein kann. Wenn solch ein gutes Ergebnis bereits bei (meist) wenig korrelierenden Daten zu Stande kommt, können durch den Einsatz von noch mehr und präziseren Daten eventuell bald Immobilienmarktexperten obsolet für das Unternehmen werden. Außerdem hat das Dataset ein ethisches Problem durch die Niederstellung von Immobilien an Standorten mit einem hohen Anteil an schwarzer Bevölkerung. Solch eine Auffassung ist nicht mehr zeitgemäß und spielt hoffentlich in der Realität keine Rolle mehr. Stattdessen sollten mehr Faktoren zur Preisermittlung einbezogen werden wie die Grundstücksfläche, Lärmbelästigung oder Nähe zu Schulen und Kindertagesstätten. Solche reellen Faktoren können die Preisvorhersage noch weiter optimieren und damit das Unternehmen bei der Entscheidungsfindung noch besser unterstützen. Ein solch komplexes Thema wie die Ermittlung vom Wert einer Immobilie ist jedoch nicht mit der Analyse von Daten erledigt, sondern bedarf auch weiterhin Strategie und Marktanalysen, welche wiederum neue Daten liefern könnten, die das Modell noch weiter optimieren können."
   ]
  }
 ],
 "metadata": {
  "interpreter": {
   "hash": "463226f144cc21b006ce6927bfc93dd00694e52c8bc6857abb6e555b983749e9"
  },
  "kernelspec": {
   "display_name": "Python 3.8.2 64-bit ('base': conda)",
   "language": "python",
   "name": "python3"
  },
  "language_info": {
   "codemirror_mode": {
    "name": "ipython",
    "version": 3
   },
   "file_extension": ".py",
   "mimetype": "text/x-python",
   "name": "python",
   "nbconvert_exporter": "python",
   "pygments_lexer": "ipython3",
   "version": "3.8.12"
  }
 },
 "nbformat": 4,
 "nbformat_minor": 2
}
